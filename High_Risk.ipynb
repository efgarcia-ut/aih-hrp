{
  "nbformat": 4,
  "nbformat_minor": 0,
  "metadata": {
    "colab": {
      "provenance": [],
      "gpuType": "T4",
      "authorship_tag": "ABX9TyNLD6HVpMIUsmlQvfjSDaM4",
      "include_colab_link": true
    },
    "kernelspec": {
      "name": "python3",
      "display_name": "Python 3"
    },
    "language_info": {
      "name": "python"
    },
    "accelerator": "GPU"
  },
  "cells": [
    {
      "cell_type": "markdown",
      "metadata": {
        "id": "view-in-github",
        "colab_type": "text"
      },
      "source": [
        "<a href=\"https://colab.research.google.com/github/efgarcia-ut/aih-hrp/blob/main/High_Risk.ipynb\" target=\"_parent\"><img src=\"https://colab.research.google.com/assets/colab-badge.svg\" alt=\"Open In Colab\"/></a>"
      ]
    },
    {
      "cell_type": "code",
      "source": [
        "!pip install rtdl_num_embeddings"
      ],
      "metadata": {
        "colab": {
          "base_uri": "https://localhost:8080/"
        },
        "id": "kvA168HJ4iE0",
        "outputId": "1b2d1cda-600e-4c6e-ad86-bc5392a74f6a"
      },
      "execution_count": 1,
      "outputs": [
        {
          "output_type": "stream",
          "name": "stdout",
          "text": [
            "Collecting rtdl_num_embeddings\n",
            "  Downloading rtdl_num_embeddings-0.0.12-py3-none-any.whl.metadata (903 bytes)\n",
            "Requirement already satisfied: torch<3,>=1.12 in /usr/local/lib/python3.11/dist-packages (from rtdl_num_embeddings) (2.6.0+cu124)\n",
            "Requirement already satisfied: filelock in /usr/local/lib/python3.11/dist-packages (from torch<3,>=1.12->rtdl_num_embeddings) (3.18.0)\n",
            "Requirement already satisfied: typing-extensions>=4.10.0 in /usr/local/lib/python3.11/dist-packages (from torch<3,>=1.12->rtdl_num_embeddings) (4.13.2)\n",
            "Requirement already satisfied: networkx in /usr/local/lib/python3.11/dist-packages (from torch<3,>=1.12->rtdl_num_embeddings) (3.4.2)\n",
            "Requirement already satisfied: jinja2 in /usr/local/lib/python3.11/dist-packages (from torch<3,>=1.12->rtdl_num_embeddings) (3.1.6)\n",
            "Requirement already satisfied: fsspec in /usr/local/lib/python3.11/dist-packages (from torch<3,>=1.12->rtdl_num_embeddings) (2025.3.2)\n",
            "Collecting nvidia-cuda-nvrtc-cu12==12.4.127 (from torch<3,>=1.12->rtdl_num_embeddings)\n",
            "  Downloading nvidia_cuda_nvrtc_cu12-12.4.127-py3-none-manylinux2014_x86_64.whl.metadata (1.5 kB)\n",
            "Collecting nvidia-cuda-runtime-cu12==12.4.127 (from torch<3,>=1.12->rtdl_num_embeddings)\n",
            "  Downloading nvidia_cuda_runtime_cu12-12.4.127-py3-none-manylinux2014_x86_64.whl.metadata (1.5 kB)\n",
            "Collecting nvidia-cuda-cupti-cu12==12.4.127 (from torch<3,>=1.12->rtdl_num_embeddings)\n",
            "  Downloading nvidia_cuda_cupti_cu12-12.4.127-py3-none-manylinux2014_x86_64.whl.metadata (1.6 kB)\n",
            "Collecting nvidia-cudnn-cu12==9.1.0.70 (from torch<3,>=1.12->rtdl_num_embeddings)\n",
            "  Downloading nvidia_cudnn_cu12-9.1.0.70-py3-none-manylinux2014_x86_64.whl.metadata (1.6 kB)\n",
            "Collecting nvidia-cublas-cu12==12.4.5.8 (from torch<3,>=1.12->rtdl_num_embeddings)\n",
            "  Downloading nvidia_cublas_cu12-12.4.5.8-py3-none-manylinux2014_x86_64.whl.metadata (1.5 kB)\n",
            "Collecting nvidia-cufft-cu12==11.2.1.3 (from torch<3,>=1.12->rtdl_num_embeddings)\n",
            "  Downloading nvidia_cufft_cu12-11.2.1.3-py3-none-manylinux2014_x86_64.whl.metadata (1.5 kB)\n",
            "Collecting nvidia-curand-cu12==10.3.5.147 (from torch<3,>=1.12->rtdl_num_embeddings)\n",
            "  Downloading nvidia_curand_cu12-10.3.5.147-py3-none-manylinux2014_x86_64.whl.metadata (1.5 kB)\n",
            "Collecting nvidia-cusolver-cu12==11.6.1.9 (from torch<3,>=1.12->rtdl_num_embeddings)\n",
            "  Downloading nvidia_cusolver_cu12-11.6.1.9-py3-none-manylinux2014_x86_64.whl.metadata (1.6 kB)\n",
            "Collecting nvidia-cusparse-cu12==12.3.1.170 (from torch<3,>=1.12->rtdl_num_embeddings)\n",
            "  Downloading nvidia_cusparse_cu12-12.3.1.170-py3-none-manylinux2014_x86_64.whl.metadata (1.6 kB)\n",
            "Requirement already satisfied: nvidia-cusparselt-cu12==0.6.2 in /usr/local/lib/python3.11/dist-packages (from torch<3,>=1.12->rtdl_num_embeddings) (0.6.2)\n",
            "Requirement already satisfied: nvidia-nccl-cu12==2.21.5 in /usr/local/lib/python3.11/dist-packages (from torch<3,>=1.12->rtdl_num_embeddings) (2.21.5)\n",
            "Requirement already satisfied: nvidia-nvtx-cu12==12.4.127 in /usr/local/lib/python3.11/dist-packages (from torch<3,>=1.12->rtdl_num_embeddings) (12.4.127)\n",
            "Collecting nvidia-nvjitlink-cu12==12.4.127 (from torch<3,>=1.12->rtdl_num_embeddings)\n",
            "  Downloading nvidia_nvjitlink_cu12-12.4.127-py3-none-manylinux2014_x86_64.whl.metadata (1.5 kB)\n",
            "Requirement already satisfied: triton==3.2.0 in /usr/local/lib/python3.11/dist-packages (from torch<3,>=1.12->rtdl_num_embeddings) (3.2.0)\n",
            "Requirement already satisfied: sympy==1.13.1 in /usr/local/lib/python3.11/dist-packages (from torch<3,>=1.12->rtdl_num_embeddings) (1.13.1)\n",
            "Requirement already satisfied: mpmath<1.4,>=1.1.0 in /usr/local/lib/python3.11/dist-packages (from sympy==1.13.1->torch<3,>=1.12->rtdl_num_embeddings) (1.3.0)\n",
            "Requirement already satisfied: MarkupSafe>=2.0 in /usr/local/lib/python3.11/dist-packages (from jinja2->torch<3,>=1.12->rtdl_num_embeddings) (3.0.2)\n",
            "Downloading rtdl_num_embeddings-0.0.12-py3-none-any.whl (13 kB)\n",
            "Downloading nvidia_cublas_cu12-12.4.5.8-py3-none-manylinux2014_x86_64.whl (363.4 MB)\n",
            "\u001b[2K   \u001b[90m━━━━━━━━━━━━━━━━━━━━━━━━━━━━━━━━━━━━━━━━\u001b[0m \u001b[32m363.4/363.4 MB\u001b[0m \u001b[31m3.6 MB/s\u001b[0m eta \u001b[36m0:00:00\u001b[0m\n",
            "\u001b[?25hDownloading nvidia_cuda_cupti_cu12-12.4.127-py3-none-manylinux2014_x86_64.whl (13.8 MB)\n",
            "\u001b[2K   \u001b[90m━━━━━━━━━━━━━━━━━━━━━━━━━━━━━━━━━━━━━━━━\u001b[0m \u001b[32m13.8/13.8 MB\u001b[0m \u001b[31m59.8 MB/s\u001b[0m eta \u001b[36m0:00:00\u001b[0m\n",
            "\u001b[?25hDownloading nvidia_cuda_nvrtc_cu12-12.4.127-py3-none-manylinux2014_x86_64.whl (24.6 MB)\n",
            "\u001b[2K   \u001b[90m━━━━━━━━━━━━━━━━━━━━━━━━━━━━━━━━━━━━━━━━\u001b[0m \u001b[32m24.6/24.6 MB\u001b[0m \u001b[31m92.0 MB/s\u001b[0m eta \u001b[36m0:00:00\u001b[0m\n",
            "\u001b[?25hDownloading nvidia_cuda_runtime_cu12-12.4.127-py3-none-manylinux2014_x86_64.whl (883 kB)\n",
            "\u001b[2K   \u001b[90m━━━━━━━━━━━━━━━━━━━━━━━━━━━━━━━━━━━━━━━━\u001b[0m \u001b[32m883.7/883.7 kB\u001b[0m \u001b[31m57.4 MB/s\u001b[0m eta \u001b[36m0:00:00\u001b[0m\n",
            "\u001b[?25hDownloading nvidia_cudnn_cu12-9.1.0.70-py3-none-manylinux2014_x86_64.whl (664.8 MB)\n",
            "\u001b[2K   \u001b[90m━━━━━━━━━━━━━━━━━━━━━━━━━━━━━━━━━━━━━━━━\u001b[0m \u001b[32m664.8/664.8 MB\u001b[0m \u001b[31m2.7 MB/s\u001b[0m eta \u001b[36m0:00:00\u001b[0m\n",
            "\u001b[?25hDownloading nvidia_cufft_cu12-11.2.1.3-py3-none-manylinux2014_x86_64.whl (211.5 MB)\n",
            "\u001b[2K   \u001b[90m━━━━━━━━━━━━━━━━━━━━━━━━━━━━━━━━━━━━━━━━\u001b[0m \u001b[32m211.5/211.5 MB\u001b[0m \u001b[31m5.4 MB/s\u001b[0m eta \u001b[36m0:00:00\u001b[0m\n",
            "\u001b[?25hDownloading nvidia_curand_cu12-10.3.5.147-py3-none-manylinux2014_x86_64.whl (56.3 MB)\n",
            "\u001b[2K   \u001b[90m━━━━━━━━━━━━━━━━━━━━━━━━━━━━━━━━━━━━━━━━\u001b[0m \u001b[32m56.3/56.3 MB\u001b[0m \u001b[31m17.9 MB/s\u001b[0m eta \u001b[36m0:00:00\u001b[0m\n",
            "\u001b[?25hDownloading nvidia_cusolver_cu12-11.6.1.9-py3-none-manylinux2014_x86_64.whl (127.9 MB)\n",
            "\u001b[2K   \u001b[90m━━━━━━━━━━━━━━━━━━━━━━━━━━━━━━━━━━━━━━━━\u001b[0m \u001b[32m127.9/127.9 MB\u001b[0m \u001b[31m7.5 MB/s\u001b[0m eta \u001b[36m0:00:00\u001b[0m\n",
            "\u001b[?25hDownloading nvidia_cusparse_cu12-12.3.1.170-py3-none-manylinux2014_x86_64.whl (207.5 MB)\n",
            "\u001b[2K   \u001b[90m━━━━━━━━━━━━━━━━━━━━━━━━━━━━━━━━━━━━━━━━\u001b[0m \u001b[32m207.5/207.5 MB\u001b[0m \u001b[31m5.5 MB/s\u001b[0m eta \u001b[36m0:00:00\u001b[0m\n",
            "\u001b[?25hDownloading nvidia_nvjitlink_cu12-12.4.127-py3-none-manylinux2014_x86_64.whl (21.1 MB)\n",
            "\u001b[2K   \u001b[90m━━━━━━━━━━━━━━━━━━━━━━━━━━━━━━━━━━━━━━━━\u001b[0m \u001b[32m21.1/21.1 MB\u001b[0m \u001b[31m80.5 MB/s\u001b[0m eta \u001b[36m0:00:00\u001b[0m\n",
            "\u001b[?25hInstalling collected packages: nvidia-nvjitlink-cu12, nvidia-curand-cu12, nvidia-cufft-cu12, nvidia-cuda-runtime-cu12, nvidia-cuda-nvrtc-cu12, nvidia-cuda-cupti-cu12, nvidia-cublas-cu12, nvidia-cusparse-cu12, nvidia-cudnn-cu12, nvidia-cusolver-cu12, rtdl_num_embeddings\n",
            "  Attempting uninstall: nvidia-nvjitlink-cu12\n",
            "    Found existing installation: nvidia-nvjitlink-cu12 12.5.82\n",
            "    Uninstalling nvidia-nvjitlink-cu12-12.5.82:\n",
            "      Successfully uninstalled nvidia-nvjitlink-cu12-12.5.82\n",
            "  Attempting uninstall: nvidia-curand-cu12\n",
            "    Found existing installation: nvidia-curand-cu12 10.3.6.82\n",
            "    Uninstalling nvidia-curand-cu12-10.3.6.82:\n",
            "      Successfully uninstalled nvidia-curand-cu12-10.3.6.82\n",
            "  Attempting uninstall: nvidia-cufft-cu12\n",
            "    Found existing installation: nvidia-cufft-cu12 11.2.3.61\n",
            "    Uninstalling nvidia-cufft-cu12-11.2.3.61:\n",
            "      Successfully uninstalled nvidia-cufft-cu12-11.2.3.61\n",
            "  Attempting uninstall: nvidia-cuda-runtime-cu12\n",
            "    Found existing installation: nvidia-cuda-runtime-cu12 12.5.82\n",
            "    Uninstalling nvidia-cuda-runtime-cu12-12.5.82:\n",
            "      Successfully uninstalled nvidia-cuda-runtime-cu12-12.5.82\n",
            "  Attempting uninstall: nvidia-cuda-nvrtc-cu12\n",
            "    Found existing installation: nvidia-cuda-nvrtc-cu12 12.5.82\n",
            "    Uninstalling nvidia-cuda-nvrtc-cu12-12.5.82:\n",
            "      Successfully uninstalled nvidia-cuda-nvrtc-cu12-12.5.82\n",
            "  Attempting uninstall: nvidia-cuda-cupti-cu12\n",
            "    Found existing installation: nvidia-cuda-cupti-cu12 12.5.82\n",
            "    Uninstalling nvidia-cuda-cupti-cu12-12.5.82:\n",
            "      Successfully uninstalled nvidia-cuda-cupti-cu12-12.5.82\n",
            "  Attempting uninstall: nvidia-cublas-cu12\n",
            "    Found existing installation: nvidia-cublas-cu12 12.5.3.2\n",
            "    Uninstalling nvidia-cublas-cu12-12.5.3.2:\n",
            "      Successfully uninstalled nvidia-cublas-cu12-12.5.3.2\n",
            "  Attempting uninstall: nvidia-cusparse-cu12\n",
            "    Found existing installation: nvidia-cusparse-cu12 12.5.1.3\n",
            "    Uninstalling nvidia-cusparse-cu12-12.5.1.3:\n",
            "      Successfully uninstalled nvidia-cusparse-cu12-12.5.1.3\n",
            "  Attempting uninstall: nvidia-cudnn-cu12\n",
            "    Found existing installation: nvidia-cudnn-cu12 9.3.0.75\n",
            "    Uninstalling nvidia-cudnn-cu12-9.3.0.75:\n",
            "      Successfully uninstalled nvidia-cudnn-cu12-9.3.0.75\n",
            "  Attempting uninstall: nvidia-cusolver-cu12\n",
            "    Found existing installation: nvidia-cusolver-cu12 11.6.3.83\n",
            "    Uninstalling nvidia-cusolver-cu12-11.6.3.83:\n",
            "      Successfully uninstalled nvidia-cusolver-cu12-11.6.3.83\n",
            "Successfully installed nvidia-cublas-cu12-12.4.5.8 nvidia-cuda-cupti-cu12-12.4.127 nvidia-cuda-nvrtc-cu12-12.4.127 nvidia-cuda-runtime-cu12-12.4.127 nvidia-cudnn-cu12-9.1.0.70 nvidia-cufft-cu12-11.2.1.3 nvidia-curand-cu12-10.3.5.147 nvidia-cusolver-cu12-11.6.1.9 nvidia-cusparse-cu12-12.3.1.170 nvidia-nvjitlink-cu12-12.4.127 rtdl_num_embeddings-0.0.12\n"
          ]
        }
      ]
    },
    {
      "cell_type": "code",
      "execution_count": 49,
      "metadata": {
        "id": "MS4pvsmx0eBQ"
      },
      "outputs": [],
      "source": [
        "import random\n",
        "import json\n",
        "import numpy as np\n",
        "import pandas as pd\n",
        "\n",
        "import matplotlib.pyplot as plt\n",
        "import seaborn as sns\n",
        "\n",
        "import torch\n",
        "from torch import nn, Tensor\n",
        "from torch.utils.data import Dataset, DataLoader\n",
        "\n",
        "from sklearn.impute import SimpleImputer, KNNImputer\n",
        "from sklearn.model_selection import train_test_split\n",
        "from sklearn.pipeline import Pipeline\n",
        "from sklearn.preprocessing import StandardScaler, OrdinalEncoder\n",
        "\n",
        "from google.colab import auth\n",
        "from google.cloud import bigquery\n",
        "\n",
        "from tqdm import tqdm, trange\n",
        "\n",
        "from tabm_reference import Model, make_parameter_groups\n",
        "\n",
        "\n",
        "auth.authenticate_user()\n",
        "bq_client = bigquery.Client(project='utaih-449518')"
      ]
    },
    {
      "cell_type": "code",
      "source": [
        "query = \"\"\"\n",
        "SELECT\n",
        "  a.hadm_id,\n",
        "  CASE\n",
        "    WHEN p.gender = 'M' THEN 1\n",
        "    ELSE 0\n",
        "END\n",
        "  AS gender,\n",
        "  p.anchor_age + DATE_DIFF( a.admittime, DATE(p.anchor_year, 1, 1), YEAR ) AS age,\n",
        "  TIMESTAMP_DIFF(a.dischtime, a.admittime, MINUTE) / 1440.0 AS length_of_admission,\n",
        "FROM\n",
        "  `physionet-data.mimiciv_3_1_hosp.admissions` a\n",
        "JOIN\n",
        "  `physionet-data.mimiciv_3_1_hosp.patients` p\n",
        "ON\n",
        "  a.subject_id = p.subject_id\n",
        "WHERE\n",
        "  a.hospital_expire_flag = 0\n",
        "\"\"\"\n",
        "\n",
        "admissions = bq_client.query(query).to_dataframe().set_index('hadm_id')\n",
        "admissions = admissions[(admissions.age < 90)]\n",
        "admissions.info()"
      ],
      "metadata": {
        "id": "kWtAuK3cZoXC",
        "colab": {
          "base_uri": "https://localhost:8080/"
        },
        "outputId": "9d5ac7c3-cdb7-4647-942d-8b2b9648d50c"
      },
      "execution_count": null,
      "outputs": [
        {
          "output_type": "stream",
          "name": "stdout",
          "text": [
            "<class 'pandas.core.frame.DataFrame'>\n",
            "Index: 512722 entries, 28525813 to 21106593\n",
            "Data columns (total 3 columns):\n",
            " #   Column               Non-Null Count   Dtype  \n",
            "---  ------               --------------   -----  \n",
            " 0   gender               512722 non-null  Int64  \n",
            " 1   age                  512722 non-null  Int64  \n",
            " 2   length_of_admission  512722 non-null  float64\n",
            "dtypes: Int64(2), float64(1)\n",
            "memory usage: 17.1 MB\n"
          ]
        }
      ]
    },
    {
      "cell_type": "code",
      "source": [
        "query = \"\"\"\n",
        "SELECT\n",
        "  a.hadm_id,\n",
        "  p.gender,\n",
        "  a.insurance,\n",
        "  a.language,\n",
        "  a.marital_status,\n",
        "  a.race,\n",
        "  p.anchor_age + DATE_DIFF( a.admittime, DATE(p.anchor_year, 1, 1), YEAR ) AS age,\n",
        "  TIMESTAMP_DIFF(a.dischtime, a.admittime, MINUTE) / 1440.0 AS length_of_admission,\n",
        "FROM\n",
        "  `physionet-data.mimiciv_3_1_hosp.admissions` a\n",
        "JOIN\n",
        "  `physionet-data.mimiciv_3_1_hosp.patients` p\n",
        "ON\n",
        "  a.subject_id = p.subject_id\n",
        "WHERE\n",
        "  a.hospital_expire_flag = 0\n",
        "\"\"\"\n",
        "\n",
        "admissions = bq_client.query(query).to_dataframe().set_index('hadm_id')\n",
        "admissions = admissions[(admissions.age < 90)]\n",
        "admissions.info()"
      ],
      "metadata": {
        "colab": {
          "base_uri": "https://localhost:8080/"
        },
        "id": "Os5ydduWsHvu",
        "outputId": "290c226c-f855-46b7-c1f0-45c058f40192"
      },
      "execution_count": null,
      "outputs": [
        {
          "output_type": "stream",
          "name": "stdout",
          "text": [
            "<class 'pandas.core.frame.DataFrame'>\n",
            "Index: 512722 entries, 28525813 to 21106593\n",
            "Data columns (total 7 columns):\n",
            " #   Column               Non-Null Count   Dtype  \n",
            "---  ------               --------------   -----  \n",
            " 0   gender               512722 non-null  object \n",
            " 1   insurance            503763 non-null  object \n",
            " 2   language             512113 non-null  object \n",
            " 3   marital_status       501367 non-null  object \n",
            " 4   race                 512722 non-null  object \n",
            " 5   age                  512722 non-null  Int64  \n",
            " 6   length_of_admission  512722 non-null  float64\n",
            "dtypes: Int64(1), float64(1), object(5)\n",
            "memory usage: 32.3+ MB\n"
          ]
        }
      ]
    },
    {
      "cell_type": "code",
      "source": [
        "query = \"\"\"\n",
        "SELECT\n",
        "  itemid,\n",
        "  label\n",
        "FROM `physionet-data.mimiciv_3_1_hosp.d_labitems`\n",
        "\"\"\"\n",
        "lab_labels = bq_client.query(query).to_dataframe().set_index('itemid')['label']\n",
        "\n",
        "lab_limit = 20\n",
        "query = f\"\"\"\n",
        "SELECT\n",
        "  hadm_id,\n",
        "  itemid,\n",
        "  valuenum\n",
        "FROM\n",
        "  `physionet-data.mimiciv_3_1_hosp.labevents`\n",
        "WHERE\n",
        "  valuenum IS NOT NULL\n",
        "  AND hadm_id IS NOT NULL\n",
        "  AND itemid IN (\n",
        "  SELECT\n",
        "    itemid\n",
        "  FROM\n",
        "    `physionet-data.mimiciv_3_1_hosp.labevents`\n",
        "  WHERE\n",
        "    valuenum IS NOT NULL\n",
        "    AND hadm_id IS NOT NULL\n",
        "  GROUP BY\n",
        "    itemid\n",
        "  ORDER BY\n",
        "    COUNT(DISTINCT hadm_id) DESC\n",
        "  LIMIT\n",
        "    {lab_limit} )\n",
        "\"\"\"\n",
        "lab_avg = (\n",
        "    bq_client.query(query)\n",
        "    .to_dataframe()\n",
        "    .pivot_table(index=[\"hadm_id\"], columns=\"itemid\", values=\"valuenum\", aggfunc=\"mean\")\n",
        "    .rename(columns=lab_labels)\n",
        ")\n",
        "\n",
        "lab_avg.info()"
      ],
      "metadata": {
        "colab": {
          "base_uri": "https://localhost:8080/"
        },
        "id": "WRGM-6TWOSAT",
        "outputId": "c92b57a2-4172-4038-e3f6-cdeb42733cb7"
      },
      "execution_count": null,
      "outputs": [
        {
          "output_type": "stream",
          "name": "stdout",
          "text": [
            "<class 'pandas.core.frame.DataFrame'>\n",
            "Index: 437901 entries, 20000019 to 29999935\n",
            "Data columns (total 20 columns):\n",
            " #   Column             Non-Null Count   Dtype  \n",
            "---  ------             --------------   -----  \n",
            " 0   Anion Gap          406860 non-null  float64\n",
            " 1   Bicarbonate        406895 non-null  float64\n",
            " 2   Calcium, Total     372093 non-null  float64\n",
            " 3   Chloride           409326 non-null  float64\n",
            " 4   Creatinine         415833 non-null  float64\n",
            " 5   Glucose            406252 non-null  float64\n",
            " 6   Magnesium          379117 non-null  float64\n",
            " 7   Phosphate          369575 non-null  float64\n",
            " 8   Potassium          411533 non-null  float64\n",
            " 9   Sodium             409795 non-null  float64\n",
            " 10  Urea Nitrogen      411868 non-null  float64\n",
            " 11  Hematocrit         430556 non-null  float64\n",
            " 12  Hemoglobin         422276 non-null  float64\n",
            " 13  MCH                421286 non-null  float64\n",
            " 14  MCHC               421297 non-null  float64\n",
            " 15  MCV                421292 non-null  float64\n",
            " 16  Platelet Count     423986 non-null  float64\n",
            " 17  RDW                421212 non-null  float64\n",
            " 18  Red Blood Cells    421294 non-null  float64\n",
            " 19  White Blood Cells  421550 non-null  float64\n",
            "dtypes: float64(20)\n",
            "memory usage: 70.6 MB\n"
          ]
        }
      ]
    },
    {
      "cell_type": "code",
      "source": [
        "vitals_itemids = (\n",
        "    220045, # Heart Rate,\n",
        "    220179, # Non Invasive Blood Pressure systolic\n",
        "    220180, # Non Invasive Blood Pressure diastolic\n",
        "    220210, # Respiratory Rate\n",
        "    220277, # O2 saturation pulseoxymetry\n",
        "    223761, # Temperature Fahrenheit\n",
        ")\n",
        "\n",
        "label_query = f\"\"\"\n",
        "SELECT\n",
        "  itemid,\n",
        "  label\n",
        "FROM\n",
        "  `physionet-data.mimiciv_3_1_icu.d_items`\n",
        "WHERE\n",
        "  itemid IN {vitals_itemids}\n",
        "\"\"\"\n",
        "vital_labels = (\n",
        "    bq_client\n",
        "    .query(label_query)\n",
        "    .to_dataframe()\n",
        "    .set_index(\"itemid\")[\"label\"]\n",
        ")\n",
        "\n",
        "chart_query = f\"\"\"\n",
        "SELECT\n",
        "  hadm_id,\n",
        "  itemid,\n",
        "  valuenum\n",
        "FROM\n",
        "  `physionet-data.mimiciv_3_1_icu.chartevents`\n",
        "WHERE\n",
        "  valuenum IS NOT NULL\n",
        "  AND hadm_id IS NOT NULL\n",
        "  AND itemid IN {vitals_itemids}\n",
        "\"\"\"\n",
        "vitals_avg = (\n",
        "    bq_client\n",
        "    .query(chart_query)\n",
        "    .to_dataframe()\n",
        "    .pivot_table(\n",
        "        index=\"hadm_id\",\n",
        "        columns=\"itemid\",\n",
        "        values=\"valuenum\",\n",
        "        aggfunc=\"mean\"\n",
        "    )\n",
        "    .rename(columns=vital_labels)\n",
        ")\n",
        "\n",
        "vitals_avg.info()"
      ],
      "metadata": {
        "colab": {
          "base_uri": "https://localhost:8080/"
        },
        "id": "GhVW16ryqVWN",
        "outputId": "6689e3b8-ca43-4f5a-c62d-53e550e8497b"
      },
      "execution_count": null,
      "outputs": [
        {
          "output_type": "stream",
          "name": "stdout",
          "text": [
            "<class 'pandas.core.frame.DataFrame'>\n",
            "Index: 85241 entries, 20000094 to 29999828\n",
            "Data columns (total 6 columns):\n",
            " #   Column                                 Non-Null Count  Dtype  \n",
            "---  ------                                 --------------  -----  \n",
            " 0   Heart Rate                             85240 non-null  float64\n",
            " 1   Non Invasive Blood Pressure systolic   84283 non-null  float64\n",
            " 2   Non Invasive Blood Pressure diastolic  84280 non-null  float64\n",
            " 3   Respiratory Rate                       85156 non-null  float64\n",
            " 4   O2 saturation pulseoxymetry            85146 non-null  float64\n",
            " 5   Temperature Fahrenheit                 84073 non-null  float64\n",
            "dtypes: float64(6)\n",
            "memory usage: 4.6 MB\n"
          ]
        }
      ]
    },
    {
      "cell_type": "code",
      "source": [
        "df = admissions.join(vitals_avg, how='inner').join(lab_avg)\n",
        "df.to_csv('hrp_data.csv')"
      ],
      "metadata": {
        "id": "W-2U_IPL3xZH"
      },
      "execution_count": null,
      "outputs": []
    },
    {
      "cell_type": "code",
      "source": [
        "df = pd.read_csv('hrp_data.csv', index_col=0)\n",
        "cat_cols = ['gender', 'insurance', 'language', 'marital_status', 'race']\n",
        "target_col = ['age']\n",
        "cont_cols = [col for col in df.columns if col not in cat_cols + target_col]\n",
        "train, val = train_test_split(np.arange(len(df)), test_size=0.2, random_state=42)\n",
        "\n",
        "df.info()"
      ],
      "metadata": {
        "colab": {
          "base_uri": "https://localhost:8080/"
        },
        "id": "FJUShCHKJcKB",
        "outputId": "1998caa0-1b93-4388-94f9-7af8b564a662"
      },
      "execution_count": 3,
      "outputs": [
        {
          "output_type": "stream",
          "name": "stdout",
          "text": [
            "<class 'pandas.core.frame.DataFrame'>\n",
            "Index: 72338 entries, 21341439 to 26517464\n",
            "Data columns (total 33 columns):\n",
            " #   Column                                 Non-Null Count  Dtype  \n",
            "---  ------                                 --------------  -----  \n",
            " 0   gender                                 72338 non-null  object \n",
            " 1   insurance                              71250 non-null  object \n",
            " 2   language                               72101 non-null  object \n",
            " 3   marital_status                         67178 non-null  object \n",
            " 4   race                                   72338 non-null  object \n",
            " 5   age                                    72338 non-null  int64  \n",
            " 6   length_of_admission                    72338 non-null  float64\n",
            " 7   Heart Rate                             72337 non-null  float64\n",
            " 8   Non Invasive Blood Pressure systolic   71846 non-null  float64\n",
            " 9   Non Invasive Blood Pressure diastolic  71843 non-null  float64\n",
            " 10  Respiratory Rate                       72267 non-null  float64\n",
            " 11  O2 saturation pulseoxymetry            72319 non-null  float64\n",
            " 12  Temperature Fahrenheit                 71873 non-null  float64\n",
            " 13  Anion Gap                              71791 non-null  float64\n",
            " 14  Bicarbonate                            71792 non-null  float64\n",
            " 15  Calcium, Total                         70366 non-null  float64\n",
            " 16  Chloride                               71798 non-null  float64\n",
            " 17  Creatinine                             71806 non-null  float64\n",
            " 18  Glucose                                71791 non-null  float64\n",
            " 19  Magnesium                              71565 non-null  float64\n",
            " 20  Phosphate                              70506 non-null  float64\n",
            " 21  Potassium                              71802 non-null  float64\n",
            " 22  Sodium                                 71799 non-null  float64\n",
            " 23  Urea Nitrogen                          71803 non-null  float64\n",
            " 24  Hematocrit                             71787 non-null  float64\n",
            " 25  Hemoglobin                             71762 non-null  float64\n",
            " 26  MCH                                    71760 non-null  float64\n",
            " 27  MCHC                                   71760 non-null  float64\n",
            " 28  MCV                                    71761 non-null  float64\n",
            " 29  Platelet Count                         71764 non-null  float64\n",
            " 30  RDW                                    71753 non-null  float64\n",
            " 31  Red Blood Cells                        71761 non-null  float64\n",
            " 32  White Blood Cells                      71763 non-null  float64\n",
            "dtypes: float64(27), int64(1), object(5)\n",
            "memory usage: 18.8+ MB\n"
          ]
        }
      ]
    },
    {
      "cell_type": "code",
      "source": [
        "df[target_col].describe()"
      ],
      "metadata": {
        "colab": {
          "base_uri": "https://localhost:8080/",
          "height": 300
        },
        "id": "ZJq6etqxoFOU",
        "outputId": "c9dd802f-bc76-48aa-b7de-4eb5c4ba2a14"
      },
      "execution_count": null,
      "outputs": [
        {
          "output_type": "execute_result",
          "data": {
            "text/plain": [
              "                age\n",
              "count  72338.000000\n",
              "mean      62.672316\n",
              "std       16.179292\n",
              "min       18.000000\n",
              "25%       53.000000\n",
              "50%       65.000000\n",
              "75%       75.000000\n",
              "max       89.000000"
            ],
            "text/html": [
              "\n",
              "  <div id=\"df-e811626b-ea2f-4699-81e3-2c9d3fe7f56c\" class=\"colab-df-container\">\n",
              "    <div>\n",
              "<style scoped>\n",
              "    .dataframe tbody tr th:only-of-type {\n",
              "        vertical-align: middle;\n",
              "    }\n",
              "\n",
              "    .dataframe tbody tr th {\n",
              "        vertical-align: top;\n",
              "    }\n",
              "\n",
              "    .dataframe thead th {\n",
              "        text-align: right;\n",
              "    }\n",
              "</style>\n",
              "<table border=\"1\" class=\"dataframe\">\n",
              "  <thead>\n",
              "    <tr style=\"text-align: right;\">\n",
              "      <th></th>\n",
              "      <th>age</th>\n",
              "    </tr>\n",
              "  </thead>\n",
              "  <tbody>\n",
              "    <tr>\n",
              "      <th>count</th>\n",
              "      <td>72338.000000</td>\n",
              "    </tr>\n",
              "    <tr>\n",
              "      <th>mean</th>\n",
              "      <td>62.672316</td>\n",
              "    </tr>\n",
              "    <tr>\n",
              "      <th>std</th>\n",
              "      <td>16.179292</td>\n",
              "    </tr>\n",
              "    <tr>\n",
              "      <th>min</th>\n",
              "      <td>18.000000</td>\n",
              "    </tr>\n",
              "    <tr>\n",
              "      <th>25%</th>\n",
              "      <td>53.000000</td>\n",
              "    </tr>\n",
              "    <tr>\n",
              "      <th>50%</th>\n",
              "      <td>65.000000</td>\n",
              "    </tr>\n",
              "    <tr>\n",
              "      <th>75%</th>\n",
              "      <td>75.000000</td>\n",
              "    </tr>\n",
              "    <tr>\n",
              "      <th>max</th>\n",
              "      <td>89.000000</td>\n",
              "    </tr>\n",
              "  </tbody>\n",
              "</table>\n",
              "</div>\n",
              "    <div class=\"colab-df-buttons\">\n",
              "\n",
              "  <div class=\"colab-df-container\">\n",
              "    <button class=\"colab-df-convert\" onclick=\"convertToInteractive('df-e811626b-ea2f-4699-81e3-2c9d3fe7f56c')\"\n",
              "            title=\"Convert this dataframe to an interactive table.\"\n",
              "            style=\"display:none;\">\n",
              "\n",
              "  <svg xmlns=\"http://www.w3.org/2000/svg\" height=\"24px\" viewBox=\"0 -960 960 960\">\n",
              "    <path d=\"M120-120v-720h720v720H120Zm60-500h600v-160H180v160Zm220 220h160v-160H400v160Zm0 220h160v-160H400v160ZM180-400h160v-160H180v160Zm440 0h160v-160H620v160ZM180-180h160v-160H180v160Zm440 0h160v-160H620v160Z\"/>\n",
              "  </svg>\n",
              "    </button>\n",
              "\n",
              "  <style>\n",
              "    .colab-df-container {\n",
              "      display:flex;\n",
              "      gap: 12px;\n",
              "    }\n",
              "\n",
              "    .colab-df-convert {\n",
              "      background-color: #E8F0FE;\n",
              "      border: none;\n",
              "      border-radius: 50%;\n",
              "      cursor: pointer;\n",
              "      display: none;\n",
              "      fill: #1967D2;\n",
              "      height: 32px;\n",
              "      padding: 0 0 0 0;\n",
              "      width: 32px;\n",
              "    }\n",
              "\n",
              "    .colab-df-convert:hover {\n",
              "      background-color: #E2EBFA;\n",
              "      box-shadow: 0px 1px 2px rgba(60, 64, 67, 0.3), 0px 1px 3px 1px rgba(60, 64, 67, 0.15);\n",
              "      fill: #174EA6;\n",
              "    }\n",
              "\n",
              "    .colab-df-buttons div {\n",
              "      margin-bottom: 4px;\n",
              "    }\n",
              "\n",
              "    [theme=dark] .colab-df-convert {\n",
              "      background-color: #3B4455;\n",
              "      fill: #D2E3FC;\n",
              "    }\n",
              "\n",
              "    [theme=dark] .colab-df-convert:hover {\n",
              "      background-color: #434B5C;\n",
              "      box-shadow: 0px 1px 3px 1px rgba(0, 0, 0, 0.15);\n",
              "      filter: drop-shadow(0px 1px 2px rgba(0, 0, 0, 0.3));\n",
              "      fill: #FFFFFF;\n",
              "    }\n",
              "  </style>\n",
              "\n",
              "    <script>\n",
              "      const buttonEl =\n",
              "        document.querySelector('#df-e811626b-ea2f-4699-81e3-2c9d3fe7f56c button.colab-df-convert');\n",
              "      buttonEl.style.display =\n",
              "        google.colab.kernel.accessAllowed ? 'block' : 'none';\n",
              "\n",
              "      async function convertToInteractive(key) {\n",
              "        const element = document.querySelector('#df-e811626b-ea2f-4699-81e3-2c9d3fe7f56c');\n",
              "        const dataTable =\n",
              "          await google.colab.kernel.invokeFunction('convertToInteractive',\n",
              "                                                    [key], {});\n",
              "        if (!dataTable) return;\n",
              "\n",
              "        const docLinkHtml = 'Like what you see? Visit the ' +\n",
              "          '<a target=\"_blank\" href=https://colab.research.google.com/notebooks/data_table.ipynb>data table notebook</a>'\n",
              "          + ' to learn more about interactive tables.';\n",
              "        element.innerHTML = '';\n",
              "        dataTable['output_type'] = 'display_data';\n",
              "        await google.colab.output.renderOutput(dataTable, element);\n",
              "        const docLink = document.createElement('div');\n",
              "        docLink.innerHTML = docLinkHtml;\n",
              "        element.appendChild(docLink);\n",
              "      }\n",
              "    </script>\n",
              "  </div>\n",
              "\n",
              "\n",
              "<div id=\"df-267e9f95-49c0-4ff0-9d6c-528400a0aa56\">\n",
              "  <button class=\"colab-df-quickchart\" onclick=\"quickchart('df-267e9f95-49c0-4ff0-9d6c-528400a0aa56')\"\n",
              "            title=\"Suggest charts\"\n",
              "            style=\"display:none;\">\n",
              "\n",
              "<svg xmlns=\"http://www.w3.org/2000/svg\" height=\"24px\"viewBox=\"0 0 24 24\"\n",
              "     width=\"24px\">\n",
              "    <g>\n",
              "        <path d=\"M19 3H5c-1.1 0-2 .9-2 2v14c0 1.1.9 2 2 2h14c1.1 0 2-.9 2-2V5c0-1.1-.9-2-2-2zM9 17H7v-7h2v7zm4 0h-2V7h2v10zm4 0h-2v-4h2v4z\"/>\n",
              "    </g>\n",
              "</svg>\n",
              "  </button>\n",
              "\n",
              "<style>\n",
              "  .colab-df-quickchart {\n",
              "      --bg-color: #E8F0FE;\n",
              "      --fill-color: #1967D2;\n",
              "      --hover-bg-color: #E2EBFA;\n",
              "      --hover-fill-color: #174EA6;\n",
              "      --disabled-fill-color: #AAA;\n",
              "      --disabled-bg-color: #DDD;\n",
              "  }\n",
              "\n",
              "  [theme=dark] .colab-df-quickchart {\n",
              "      --bg-color: #3B4455;\n",
              "      --fill-color: #D2E3FC;\n",
              "      --hover-bg-color: #434B5C;\n",
              "      --hover-fill-color: #FFFFFF;\n",
              "      --disabled-bg-color: #3B4455;\n",
              "      --disabled-fill-color: #666;\n",
              "  }\n",
              "\n",
              "  .colab-df-quickchart {\n",
              "    background-color: var(--bg-color);\n",
              "    border: none;\n",
              "    border-radius: 50%;\n",
              "    cursor: pointer;\n",
              "    display: none;\n",
              "    fill: var(--fill-color);\n",
              "    height: 32px;\n",
              "    padding: 0;\n",
              "    width: 32px;\n",
              "  }\n",
              "\n",
              "  .colab-df-quickchart:hover {\n",
              "    background-color: var(--hover-bg-color);\n",
              "    box-shadow: 0 1px 2px rgba(60, 64, 67, 0.3), 0 1px 3px 1px rgba(60, 64, 67, 0.15);\n",
              "    fill: var(--button-hover-fill-color);\n",
              "  }\n",
              "\n",
              "  .colab-df-quickchart-complete:disabled,\n",
              "  .colab-df-quickchart-complete:disabled:hover {\n",
              "    background-color: var(--disabled-bg-color);\n",
              "    fill: var(--disabled-fill-color);\n",
              "    box-shadow: none;\n",
              "  }\n",
              "\n",
              "  .colab-df-spinner {\n",
              "    border: 2px solid var(--fill-color);\n",
              "    border-color: transparent;\n",
              "    border-bottom-color: var(--fill-color);\n",
              "    animation:\n",
              "      spin 1s steps(1) infinite;\n",
              "  }\n",
              "\n",
              "  @keyframes spin {\n",
              "    0% {\n",
              "      border-color: transparent;\n",
              "      border-bottom-color: var(--fill-color);\n",
              "      border-left-color: var(--fill-color);\n",
              "    }\n",
              "    20% {\n",
              "      border-color: transparent;\n",
              "      border-left-color: var(--fill-color);\n",
              "      border-top-color: var(--fill-color);\n",
              "    }\n",
              "    30% {\n",
              "      border-color: transparent;\n",
              "      border-left-color: var(--fill-color);\n",
              "      border-top-color: var(--fill-color);\n",
              "      border-right-color: var(--fill-color);\n",
              "    }\n",
              "    40% {\n",
              "      border-color: transparent;\n",
              "      border-right-color: var(--fill-color);\n",
              "      border-top-color: var(--fill-color);\n",
              "    }\n",
              "    60% {\n",
              "      border-color: transparent;\n",
              "      border-right-color: var(--fill-color);\n",
              "    }\n",
              "    80% {\n",
              "      border-color: transparent;\n",
              "      border-right-color: var(--fill-color);\n",
              "      border-bottom-color: var(--fill-color);\n",
              "    }\n",
              "    90% {\n",
              "      border-color: transparent;\n",
              "      border-bottom-color: var(--fill-color);\n",
              "    }\n",
              "  }\n",
              "</style>\n",
              "\n",
              "  <script>\n",
              "    async function quickchart(key) {\n",
              "      const quickchartButtonEl =\n",
              "        document.querySelector('#' + key + ' button');\n",
              "      quickchartButtonEl.disabled = true;  // To prevent multiple clicks.\n",
              "      quickchartButtonEl.classList.add('colab-df-spinner');\n",
              "      try {\n",
              "        const charts = await google.colab.kernel.invokeFunction(\n",
              "            'suggestCharts', [key], {});\n",
              "      } catch (error) {\n",
              "        console.error('Error during call to suggestCharts:', error);\n",
              "      }\n",
              "      quickchartButtonEl.classList.remove('colab-df-spinner');\n",
              "      quickchartButtonEl.classList.add('colab-df-quickchart-complete');\n",
              "    }\n",
              "    (() => {\n",
              "      let quickchartButtonEl =\n",
              "        document.querySelector('#df-267e9f95-49c0-4ff0-9d6c-528400a0aa56 button');\n",
              "      quickchartButtonEl.style.display =\n",
              "        google.colab.kernel.accessAllowed ? 'block' : 'none';\n",
              "    })();\n",
              "  </script>\n",
              "</div>\n",
              "\n",
              "    </div>\n",
              "  </div>\n"
            ],
            "application/vnd.google.colaboratory.intrinsic+json": {
              "type": "dataframe",
              "summary": "{\n  \"name\": \"df[target_col]\",\n  \"rows\": 8,\n  \"fields\": [\n    {\n      \"column\": \"age\",\n      \"properties\": {\n        \"dtype\": \"number\",\n        \"std\": 25556.223100457715,\n        \"min\": 16.17929157681265,\n        \"max\": 72338.0,\n        \"num_unique_values\": 8,\n        \"samples\": [\n          62.67231607177417,\n          65.0,\n          72338.0\n        ],\n        \"semantic_type\": \"\",\n        \"description\": \"\"\n      }\n    }\n  ]\n}"
            }
          },
          "metadata": {},
          "execution_count": 4
        }
      ]
    },
    {
      "cell_type": "code",
      "source": [
        "plt.figure(figsize=(8, 6))\n",
        "sns.histplot(df[target_col], bins=30, kde=True)\n",
        "plt.title(\"Age Distribution\")\n",
        "plt.xlabel(\"Age\")\n",
        "plt.ylabel(\"Count\")\n",
        "plt.show()"
      ],
      "metadata": {
        "colab": {
          "base_uri": "https://localhost:8080/",
          "height": 564
        },
        "id": "fARIS-gJue4p",
        "outputId": "b3455218-2aea-4baf-b0a5-fb4aebb355f1"
      },
      "execution_count": null,
      "outputs": [
        {
          "output_type": "display_data",
          "data": {
            "text/plain": [
              "<Figure size 800x600 with 1 Axes>"
            ],
            "image/png": "[encoded data removed]"
          },
          "metadata": {}
        }
      ]
    },
    {
      "cell_type": "code",
      "source": [
        "for col in cat_cols:\n",
        "    print(df[col].value_counts())"
      ],
      "metadata": {
        "colab": {
          "base_uri": "https://localhost:8080/"
        },
        "id": "OS71tmgAHUhm",
        "outputId": "a56b0081-0090-4c2d-c111-10dab0ba8323"
      },
      "execution_count": null,
      "outputs": [
        {
          "output_type": "stream",
          "name": "stdout",
          "text": [
            "gender\n",
            "M    40981\n",
            "F    31357\n",
            "Name: count, dtype: int64\n",
            "insurance\n",
            "Medicare     37238\n",
            "Private      20567\n",
            "Medicaid     11554\n",
            "Other         1884\n",
            "No charge        7\n",
            "Name: count, dtype: int64\n",
            "language\n",
            "English                   65493\n",
            "Spanish                    2311\n",
            "Chinese                     869\n",
            "Russian                     732\n",
            "Portuguese                  505\n",
            "Kabuverdianu                473\n",
            "Haitian                     461\n",
            "Other                       217\n",
            "Vietnamese                  197\n",
            "Italian                     152\n",
            "Modern Greek (1453-)        141\n",
            "Arabic                      113\n",
            "Korean                       58\n",
            "Khmer                        55\n",
            "Polish                       54\n",
            "Persian                      48\n",
            "American Sign Language       47\n",
            "Hindi                        36\n",
            "Thai                         34\n",
            "Bengali                      29\n",
            "French                       22\n",
            "Somali                       17\n",
            "Amharic                      17\n",
            "Armenian                     13\n",
            "Japanese                      7\n",
            "Name: count, dtype: int64\n",
            "marital_status\n",
            "MARRIED     33088\n",
            "SINGLE      21640\n",
            "WIDOWED      6957\n",
            "DIVORCED     5493\n",
            "Name: count, dtype: int64\n",
            "race\n",
            "WHITE                                        45371\n",
            "BLACK/AFRICAN AMERICAN                        6861\n",
            "UNKNOWN                                       5831\n",
            "OTHER                                         2452\n",
            "WHITE - OTHER EUROPEAN                        1804\n",
            "UNABLE TO OBTAIN                              1332\n",
            "HISPANIC/LATINO - PUERTO RICAN                 988\n",
            "ASIAN                                          848\n",
            "ASIAN - CHINESE                                817\n",
            "HISPANIC OR LATINO                             672\n",
            "HISPANIC/LATINO - DOMINICAN                    621\n",
            "WHITE - RUSSIAN                                585\n",
            "BLACK/CAPE VERDEAN                             525\n",
            "BLACK/CARIBBEAN ISLAND                         473\n",
            "PATIENT DECLINED TO ANSWER                     446\n",
            "BLACK/AFRICAN                                  347\n",
            "PORTUGUESE                                     331\n",
            "ASIAN - SOUTH EAST ASIAN                       305\n",
            "WHITE - EASTERN EUROPEAN                       209\n",
            "ASIAN - ASIAN INDIAN                           205\n",
            "HISPANIC/LATINO - GUATEMALAN                   187\n",
            "WHITE - BRAZILIAN                              177\n",
            "AMERICAN INDIAN/ALASKA NATIVE                  152\n",
            "HISPANIC/LATINO - SALVADORAN                   148\n",
            "NATIVE HAWAIIAN OR OTHER PACIFIC ISLANDER       94\n",
            "HISPANIC/LATINO - COLUMBIAN                     82\n",
            "SOUTH AMERICAN                                  81\n",
            "HISPANIC/LATINO - MEXICAN                       79\n",
            "HISPANIC/LATINO - CUBAN                         75\n",
            "HISPANIC/LATINO - HONDURAN                      70\n",
            "HISPANIC/LATINO - CENTRAL AMERICAN              61\n",
            "ASIAN - KOREAN                                  59\n",
            "MULTIPLE RACE/ETHNICITY                         50\n",
            "Name: count, dtype: int64\n"
          ]
        }
      ]
    },
    {
      "cell_type": "code",
      "source": [
        "cat_pipeline = Pipeline([\n",
        "    (\"imputer\", SimpleImputer(strategy=\"most_frequent\")),\n",
        "    (\"encoder\", OrdinalEncoder())\n",
        "]).fit(df[cat_cols].values[train])\n",
        "\n",
        "x_cat = cat_pipeline.transform(df[cat_cols].values).astype(np.int64)\n",
        "\n",
        "cat_cardinalities = (x_cat.max(axis=0) + 1).tolist()\n",
        "cat_cardinalities"
      ],
      "metadata": {
        "colab": {
          "base_uri": "https://localhost:8080/"
        },
        "id": "CBgRbNiPvBKt",
        "outputId": "25a63abf-f16a-4532-8626-df588be42e4a"
      },
      "execution_count": 4,
      "outputs": [
        {
          "output_type": "execute_result",
          "data": {
            "text/plain": [
              "[2, 5, 25, 4, 33]"
            ]
          },
          "metadata": {},
          "execution_count": 4
        }
      ]
    },
    {
      "cell_type": "code",
      "source": [
        "cont_pipeline = Pipeline([\n",
        "    (\"imputer\", KNNImputer(n_neighbors=5)),\n",
        "    (\"scaler\", StandardScaler())\n",
        "]).fit(df[cont_cols].values[train])\n",
        "\n",
        "x_cont = cont_pipeline.transform(df[cont_cols].values).astype(np.float32)\n",
        "_, n_cont_features = x_cont.shape\n",
        "n_cont_features"
      ],
      "metadata": {
        "colab": {
          "base_uri": "https://localhost:8080/"
        },
        "id": "GBF8CKLYycm3",
        "outputId": "1c7a3e07-0c8a-414d-a20e-cf550adf352d"
      },
      "execution_count": 5,
      "outputs": [
        {
          "output_type": "execute_result",
          "data": {
            "text/plain": [
              "27"
            ]
          },
          "metadata": {},
          "execution_count": 5
        }
      ]
    },
    {
      "cell_type": "code",
      "source": [
        "target_pipeline = Pipeline([\n",
        "    (\"scaler\", StandardScaler())\n",
        "]).fit(df[target_col].values[train])\n",
        "\n",
        "y = target_pipeline.transform(df[target_col].values).astype(np.float32)\n",
        "y.shape"
      ],
      "metadata": {
        "colab": {
          "base_uri": "https://localhost:8080/"
        },
        "id": "ICeQr5pJy7h9",
        "outputId": "51d078b4-a3c7-49ce-fcfc-8d7c04cac0b2"
      },
      "execution_count": 6,
      "outputs": [
        {
          "output_type": "execute_result",
          "data": {
            "text/plain": [
              "(72338, 1)"
            ]
          },
          "metadata": {},
          "execution_count": 6
        }
      ]
    },
    {
      "cell_type": "code",
      "source": [
        "results = {}\n",
        "split_labels = ['train', 'val']"
      ],
      "metadata": {
        "id": "YvKA_uzyNh5p"
      },
      "execution_count": 65,
      "outputs": []
    },
    {
      "cell_type": "code",
      "source": [
        "class TabularDataset(Dataset):\n",
        "    def __init__(self, x_cont: np.ndarray, x_cat: np.ndarray, y: np.ndarray):\n",
        "        self.x_cont = torch.tensor(x_cont)\n",
        "        self.x_cat  = torch.tensor(x_cat)\n",
        "        self.y = torch.tensor(y)\n",
        "\n",
        "    def __len__(self):\n",
        "        return len(self.y)\n",
        "\n",
        "    def __getitem__(self, idx):\n",
        "        return self.x_cont[idx], self.x_cat[idx], self.y[idx]\n",
        "\n",
        "ds = (x_cont, x_cat, y)\n",
        "train_dataset = TabularDataset(*[a[train] for a in ds])\n",
        "val_dataset = TabularDataset(*[a[val] for a in ds])"
      ],
      "metadata": {
        "id": "Ic-_S_I0os1i"
      },
      "execution_count": 7,
      "outputs": []
    },
    {
      "cell_type": "code",
      "source": [
        "class MLP(nn.Module):\n",
        "    def __init__(self, num_features: int):\n",
        "        super().__init__()\n",
        "        self.model = nn.Sequential(\n",
        "            nn.Linear(num_features, 128),\n",
        "            nn.LayerNorm(128),\n",
        "            nn.ReLU(),\n",
        "            nn.Dropout(0.3),\n",
        "\n",
        "            nn.Linear(128, 64),\n",
        "            nn.LayerNorm(64),\n",
        "            nn.ReLU(),\n",
        "            nn.Dropout(0.3),\n",
        "            nn.Linear(64, 1)\n",
        "        )\n",
        "\n",
        "    def forward(self, x: torch.Tensor):\n",
        "        return self.model(x)"
      ],
      "metadata": {
        "id": "RqFaGkBFNDCa"
      },
      "execution_count": 8,
      "outputs": []
    },
    {
      "cell_type": "code",
      "source": [
        "def train_mlp(\n",
        "    batch_size: int = 128,\n",
        "    lr: float = 2e-3,\n",
        "    n_epochs: int = 100,\n",
        "    weight_decay: float = 3e-4,\n",
        "    patience: int = 10,\n",
        "    seed: int = 42\n",
        "    ):\n",
        "\n",
        "    torch.manual_seed(seed)\n",
        "    np.random.seed(seed)\n",
        "    random.seed(seed)\n",
        "    if torch.cuda.is_available():\n",
        "        torch.cuda.manual_seed_all(seed)\n",
        "    torch.backends.cudnn.deterministic = True\n",
        "    torch.backends.cudnn.benchmark = False\n",
        "\n",
        "    device = torch.device(\"cuda\" if torch.cuda.is_available() else \"cpu\")\n",
        "\n",
        "    # Create DataLoaders\n",
        "    train_loader = DataLoader(train_dataset, batch_size=batch_size, shuffle=True)\n",
        "    val_loader = DataLoader(val_dataset, batch_size=batch_size)\n",
        "\n",
        "    # Lookup and instantiate the model\n",
        "    model = MLP(num_features=n_cont_features).to(device)\n",
        "\n",
        "    # Define loss function and optimizer\n",
        "    criterion = nn.MSELoss()\n",
        "    optimizer = torch.optim.AdamW(model.parameters(), lr=lr, weight_decay=weight_decay)\n",
        "    scheduler = torch.optim.lr_scheduler.ReduceLROnPlateau(optimizer, factor=0.5, patience=patience)\n",
        "\n",
        "    best_score = np.inf\n",
        "    best_epoch = -1\n",
        "\n",
        "    # Training loop\n",
        "    epoch_train_losses = np.empty(n_epochs)\n",
        "    epoch_val_losses = np.empty(n_epochs)\n",
        "    for epoch in trange(n_epochs):\n",
        "        model.train()\n",
        "        train_losses = []\n",
        "        for xb, _, yb in train_loader:\n",
        "            xb, yb = xb.to(device), yb.to(device)\n",
        "            optimizer.zero_grad()\n",
        "            out = model(xb)\n",
        "            loss = criterion(out, yb)\n",
        "            loss.backward()\n",
        "            optimizer.step()\n",
        "            train_losses.append(loss.item())\n",
        "        avg_train_loss = np.mean(train_losses)\n",
        "        epoch_train_losses[epoch] = avg_train_loss\n",
        "\n",
        "        # Validation phase\n",
        "        model.eval()\n",
        "        val_losses = []\n",
        "        with torch.inference_mode():\n",
        "            for xb, _, yb in val_loader:\n",
        "                xb, yb = xb.to(device), yb.to(device)\n",
        "                out = model(xb)\n",
        "                loss = criterion(out, yb)\n",
        "                val_losses.append(loss.item())\n",
        "\n",
        "        avg_val_loss = np.mean(val_losses)\n",
        "        scheduler.step(avg_val_loss)\n",
        "        epoch_val_losses[epoch] = avg_val_loss\n",
        "\n",
        "        if avg_val_loss < best_score:\n",
        "            best_score = avg_val_loss\n",
        "            best_epoch = epoch\n",
        "\n",
        "        print(\n",
        "            f\" {' ' * max(0, 4 - len(str(epoch+1)))}\" +\n",
        "            f\"Epoch [{epoch+1:03d}/{n_epochs}] \" +\n",
        "            f\"Train Loss: {avg_train_loss:.4f} \" +\n",
        "            f\"Val Loss: {avg_val_loss:.4f} \" +\n",
        "            (\"🌸\" if epoch == best_epoch else \"\")\n",
        "        )\n",
        "\n",
        "    return dict(zip(split_labels, (epoch_train_losses.tolist(), epoch_val_losses.tolist())))"
      ],
      "metadata": {
        "id": "qIL3dcGA4mxg"
      },
      "execution_count": 88,
      "outputs": []
    },
    {
      "cell_type": "code",
      "source": [
        "def clip_best(scores: list[float]) -> list[float]:\n",
        "    return scores[:np.argmin(scores) + 1]\n",
        "\n",
        "def unscale_scores(scores: list[float]):\n",
        "    return [float(np.sqrt(score) * target_pipeline['scaler'].scale_[0]) for score in scores]\n",
        "\n",
        "def graph_results(splits: list[str] = split_labels, clip: bool = True, unscale: bool = False):\n",
        "    plt.figure(figsize=(10, 6))\n",
        "    for model in results.keys():\n",
        "        for split in splits:\n",
        "            res = results[model][split]\n",
        "            if clip:\n",
        "                res = clip_best(res)\n",
        "            if unscale:\n",
        "                res = unscale_scores(res)\n",
        "            plt.plot(res, label=f'{model} ({split})')\n",
        "    plt.xlabel('Epoch')\n",
        "    y_label = 'RMSE (years)' if unscale else 'MSE'\n",
        "    plt.ylabel(y_label)\n",
        "    plt.legend()\n",
        "    plt.grid(True)\n",
        "    plt.show()"
      ],
      "metadata": {
        "id": "nfkuO9i9IFPU"
      },
      "execution_count": 80,
      "outputs": []
    },
    {
      "cell_type": "code",
      "source": [
        "results['MLP'] = train_mlp()"
      ],
      "metadata": {
        "colab": {
          "base_uri": "https://localhost:8080/"
        },
        "id": "iHwGn4ab9buL",
        "outputId": "e764cd6d-fa69-4438-c949-e4acdce619af"
      },
      "execution_count": 71,
      "outputs": [
        {
          "output_type": "stream",
          "name": "stderr",
          "text": [
            "  1%|          | 1/100 [00:01<02:39,  1.61s/it]"
          ]
        },
        {
          "output_type": "stream",
          "name": "stdout",
          "text": [
            "    Epoch [001/100] Train Loss: 0.6875 Val Loss: 0.5817 🌸\n"
          ]
        },
        {
          "output_type": "stream",
          "name": "stderr",
          "text": [
            "\r  2%|▏         | 2/100 [00:03<02:56,  1.80s/it]"
          ]
        },
        {
          "output_type": "stream",
          "name": "stdout",
          "text": [
            "    Epoch [002/100] Train Loss: 0.5952 Val Loss: 0.5495 🌸\n"
          ]
        },
        {
          "output_type": "stream",
          "name": "stderr",
          "text": [
            "\r  3%|▎         | 3/100 [00:05<02:40,  1.66s/it]"
          ]
        },
        {
          "output_type": "stream",
          "name": "stdout",
          "text": [
            "    Epoch [003/100] Train Loss: 0.5722 Val Loss: 0.5430 🌸\n"
          ]
        },
        {
          "output_type": "stream",
          "name": "stderr",
          "text": [
            "\r  4%|▍         | 4/100 [00:06<02:40,  1.67s/it]"
          ]
        },
        {
          "output_type": "stream",
          "name": "stdout",
          "text": [
            "    Epoch [004/100] Train Loss: 0.5621 Val Loss: 0.5319 🌸\n"
          ]
        },
        {
          "output_type": "stream",
          "name": "stderr",
          "text": [
            "\r  5%|▌         | 5/100 [00:08<02:37,  1.66s/it]"
          ]
        },
        {
          "output_type": "stream",
          "name": "stdout",
          "text": [
            "    Epoch [005/100] Train Loss: 0.5528 Val Loss: 0.5253 🌸\n"
          ]
        },
        {
          "output_type": "stream",
          "name": "stderr",
          "text": [
            "\r  6%|▌         | 6/100 [00:09<02:30,  1.61s/it]"
          ]
        },
        {
          "output_type": "stream",
          "name": "stdout",
          "text": [
            "    Epoch [006/100] Train Loss: 0.5505 Val Loss: 0.5238 🌸\n"
          ]
        },
        {
          "output_type": "stream",
          "name": "stderr",
          "text": [
            "\r  7%|▋         | 7/100 [00:11<02:25,  1.56s/it]"
          ]
        },
        {
          "output_type": "stream",
          "name": "stdout",
          "text": [
            "    Epoch [007/100] Train Loss: 0.5480 Val Loss: 0.5182 🌸\n"
          ]
        },
        {
          "output_type": "stream",
          "name": "stderr",
          "text": [
            "\r  8%|▊         | 8/100 [00:12<02:21,  1.54s/it]"
          ]
        },
        {
          "output_type": "stream",
          "name": "stdout",
          "text": [
            "    Epoch [008/100] Train Loss: 0.5436 Val Loss: 0.5184 \n"
          ]
        },
        {
          "output_type": "stream",
          "name": "stderr",
          "text": [
            "\r  9%|▉         | 9/100 [00:14<02:28,  1.64s/it]"
          ]
        },
        {
          "output_type": "stream",
          "name": "stdout",
          "text": [
            "    Epoch [009/100] Train Loss: 0.5365 Val Loss: 0.5238 \n"
          ]
        },
        {
          "output_type": "stream",
          "name": "stderr",
          "text": [
            "\r 10%|█         | 10/100 [00:16<02:28,  1.65s/it]"
          ]
        },
        {
          "output_type": "stream",
          "name": "stdout",
          "text": [
            "   Epoch [010/100] Train Loss: 0.5363 Val Loss: 0.5152 🌸\n"
          ]
        },
        {
          "output_type": "stream",
          "name": "stderr",
          "text": [
            "\r 11%|█         | 11/100 [00:17<02:22,  1.60s/it]"
          ]
        },
        {
          "output_type": "stream",
          "name": "stdout",
          "text": [
            "   Epoch [011/100] Train Loss: 0.5323 Val Loss: 0.5089 🌸\n"
          ]
        },
        {
          "output_type": "stream",
          "name": "stderr",
          "text": [
            "\r 12%|█▏        | 12/100 [00:19<02:17,  1.57s/it]"
          ]
        },
        {
          "output_type": "stream",
          "name": "stdout",
          "text": [
            "   Epoch [012/100] Train Loss: 0.5300 Val Loss: 0.5104 \n"
          ]
        },
        {
          "output_type": "stream",
          "name": "stderr",
          "text": [
            "\r 13%|█▎        | 13/100 [00:20<02:14,  1.54s/it]"
          ]
        },
        {
          "output_type": "stream",
          "name": "stdout",
          "text": [
            "   Epoch [013/100] Train Loss: 0.5274 Val Loss: 0.5118 \n"
          ]
        },
        {
          "output_type": "stream",
          "name": "stderr",
          "text": [
            "\r 14%|█▍        | 14/100 [00:22<02:11,  1.53s/it]"
          ]
        },
        {
          "output_type": "stream",
          "name": "stdout",
          "text": [
            "   Epoch [014/100] Train Loss: 0.5276 Val Loss: 0.5084 🌸\n"
          ]
        },
        {
          "output_type": "stream",
          "name": "stderr",
          "text": [
            "\r 15%|█▌        | 15/100 [00:23<02:10,  1.53s/it]"
          ]
        },
        {
          "output_type": "stream",
          "name": "stdout",
          "text": [
            "   Epoch [015/100] Train Loss: 0.5263 Val Loss: 0.5076 🌸\n"
          ]
        },
        {
          "output_type": "stream",
          "name": "stderr",
          "text": [
            "\r 16%|█▌        | 16/100 [00:25<02:07,  1.52s/it]"
          ]
        },
        {
          "output_type": "stream",
          "name": "stdout",
          "text": [
            "   Epoch [016/100] Train Loss: 0.5256 Val Loss: 0.5060 🌸\n"
          ]
        },
        {
          "output_type": "stream",
          "name": "stderr",
          "text": [
            "\r 17%|█▋        | 17/100 [00:27<02:19,  1.68s/it]"
          ]
        },
        {
          "output_type": "stream",
          "name": "stdout",
          "text": [
            "   Epoch [017/100] Train Loss: 0.5233 Val Loss: 0.5049 🌸\n"
          ]
        },
        {
          "output_type": "stream",
          "name": "stderr",
          "text": [
            "\r 18%|█▊        | 18/100 [00:28<02:12,  1.61s/it]"
          ]
        },
        {
          "output_type": "stream",
          "name": "stdout",
          "text": [
            "   Epoch [018/100] Train Loss: 0.5223 Val Loss: 0.5062 \n"
          ]
        },
        {
          "output_type": "stream",
          "name": "stderr",
          "text": [
            "\r 19%|█▉        | 19/100 [00:30<02:07,  1.58s/it]"
          ]
        },
        {
          "output_type": "stream",
          "name": "stdout",
          "text": [
            "   Epoch [019/100] Train Loss: 0.5198 Val Loss: 0.5045 🌸\n"
          ]
        },
        {
          "output_type": "stream",
          "name": "stderr",
          "text": [
            "\r 20%|██        | 20/100 [00:31<02:03,  1.54s/it]"
          ]
        },
        {
          "output_type": "stream",
          "name": "stdout",
          "text": [
            "   Epoch [020/100] Train Loss: 0.5183 Val Loss: 0.5033 🌸\n"
          ]
        },
        {
          "output_type": "stream",
          "name": "stderr",
          "text": [
            "\r 21%|██        | 21/100 [00:33<02:00,  1.53s/it]"
          ]
        },
        {
          "output_type": "stream",
          "name": "stdout",
          "text": [
            "   Epoch [021/100] Train Loss: 0.5168 Val Loss: 0.5046 \n"
          ]
        },
        {
          "output_type": "stream",
          "name": "stderr",
          "text": [
            "\r 22%|██▏       | 22/100 [00:34<01:58,  1.51s/it]"
          ]
        },
        {
          "output_type": "stream",
          "name": "stdout",
          "text": [
            "   Epoch [022/100] Train Loss: 0.5194 Val Loss: 0.5024 🌸\n"
          ]
        },
        {
          "output_type": "stream",
          "name": "stderr",
          "text": [
            "\r 23%|██▎       | 23/100 [00:36<01:55,  1.50s/it]"
          ]
        },
        {
          "output_type": "stream",
          "name": "stdout",
          "text": [
            "   Epoch [023/100] Train Loss: 0.5188 Val Loss: 0.5093 \n"
          ]
        },
        {
          "output_type": "stream",
          "name": "stderr",
          "text": [
            "\r 24%|██▍       | 24/100 [00:37<01:57,  1.55s/it]"
          ]
        },
        {
          "output_type": "stream",
          "name": "stdout",
          "text": [
            "   Epoch [024/100] Train Loss: 0.5194 Val Loss: 0.5041 \n"
          ]
        },
        {
          "output_type": "stream",
          "name": "stderr",
          "text": [
            "\r 25%|██▌       | 25/100 [00:39<02:04,  1.65s/it]"
          ]
        },
        {
          "output_type": "stream",
          "name": "stdout",
          "text": [
            "   Epoch [025/100] Train Loss: 0.5149 Val Loss: 0.5026 \n"
          ]
        },
        {
          "output_type": "stream",
          "name": "stderr",
          "text": [
            "\r 26%|██▌       | 26/100 [00:41<01:58,  1.60s/it]"
          ]
        },
        {
          "output_type": "stream",
          "name": "stdout",
          "text": [
            "   Epoch [026/100] Train Loss: 0.5128 Val Loss: 0.5010 🌸\n"
          ]
        },
        {
          "output_type": "stream",
          "name": "stderr",
          "text": [
            "\r 27%|██▋       | 27/100 [00:42<01:54,  1.57s/it]"
          ]
        },
        {
          "output_type": "stream",
          "name": "stdout",
          "text": [
            "   Epoch [027/100] Train Loss: 0.5122 Val Loss: 0.5002 🌸\n"
          ]
        },
        {
          "output_type": "stream",
          "name": "stderr",
          "text": [
            "\r 28%|██▊       | 28/100 [00:44<01:51,  1.54s/it]"
          ]
        },
        {
          "output_type": "stream",
          "name": "stdout",
          "text": [
            "   Epoch [028/100] Train Loss: 0.5112 Val Loss: 0.5010 \n"
          ]
        },
        {
          "output_type": "stream",
          "name": "stderr",
          "text": [
            "\r 29%|██▉       | 29/100 [00:45<01:48,  1.53s/it]"
          ]
        },
        {
          "output_type": "stream",
          "name": "stdout",
          "text": [
            "   Epoch [029/100] Train Loss: 0.5097 Val Loss: 0.4969 🌸\n"
          ]
        },
        {
          "output_type": "stream",
          "name": "stderr",
          "text": [
            "\r 30%|███       | 30/100 [00:47<01:45,  1.51s/it]"
          ]
        },
        {
          "output_type": "stream",
          "name": "stdout",
          "text": [
            "   Epoch [030/100] Train Loss: 0.5094 Val Loss: 0.4983 \n"
          ]
        },
        {
          "output_type": "stream",
          "name": "stderr",
          "text": [
            "\r 31%|███       | 31/100 [00:48<01:42,  1.49s/it]"
          ]
        },
        {
          "output_type": "stream",
          "name": "stdout",
          "text": [
            "   Epoch [031/100] Train Loss: 0.5118 Val Loss: 0.5022 \n"
          ]
        },
        {
          "output_type": "stream",
          "name": "stderr",
          "text": [
            "\r 32%|███▏      | 32/100 [00:50<01:46,  1.57s/it]"
          ]
        },
        {
          "output_type": "stream",
          "name": "stdout",
          "text": [
            "   Epoch [032/100] Train Loss: 0.5099 Val Loss: 0.4971 \n"
          ]
        },
        {
          "output_type": "stream",
          "name": "stderr",
          "text": [
            "\r 33%|███▎      | 33/100 [00:52<01:49,  1.63s/it]"
          ]
        },
        {
          "output_type": "stream",
          "name": "stdout",
          "text": [
            "   Epoch [033/100] Train Loss: 0.5089 Val Loss: 0.4984 \n"
          ]
        },
        {
          "output_type": "stream",
          "name": "stderr",
          "text": [
            "\r 34%|███▍      | 34/100 [00:53<01:46,  1.61s/it]"
          ]
        },
        {
          "output_type": "stream",
          "name": "stdout",
          "text": [
            "   Epoch [034/100] Train Loss: 0.5088 Val Loss: 0.4979 \n"
          ]
        },
        {
          "output_type": "stream",
          "name": "stderr",
          "text": [
            "\r 35%|███▌      | 35/100 [00:55<01:42,  1.58s/it]"
          ]
        },
        {
          "output_type": "stream",
          "name": "stdout",
          "text": [
            "   Epoch [035/100] Train Loss: 0.5055 Val Loss: 0.5019 \n"
          ]
        },
        {
          "output_type": "stream",
          "name": "stderr",
          "text": [
            "\r 36%|███▌      | 36/100 [00:56<01:39,  1.55s/it]"
          ]
        },
        {
          "output_type": "stream",
          "name": "stdout",
          "text": [
            "   Epoch [036/100] Train Loss: 0.5092 Val Loss: 0.4930 🌸\n"
          ]
        },
        {
          "output_type": "stream",
          "name": "stderr",
          "text": [
            "\r 37%|███▋      | 37/100 [00:58<01:36,  1.53s/it]"
          ]
        },
        {
          "output_type": "stream",
          "name": "stdout",
          "text": [
            "   Epoch [037/100] Train Loss: 0.5087 Val Loss: 0.5031 \n"
          ]
        },
        {
          "output_type": "stream",
          "name": "stderr",
          "text": [
            "\r 38%|███▊      | 38/100 [00:59<01:33,  1.51s/it]"
          ]
        },
        {
          "output_type": "stream",
          "name": "stdout",
          "text": [
            "   Epoch [038/100] Train Loss: 0.5076 Val Loss: 0.4949 \n"
          ]
        },
        {
          "output_type": "stream",
          "name": "stderr",
          "text": [
            "\r 39%|███▉      | 39/100 [01:01<01:31,  1.50s/it]"
          ]
        },
        {
          "output_type": "stream",
          "name": "stdout",
          "text": [
            "   Epoch [039/100] Train Loss: 0.5053 Val Loss: 0.4967 \n"
          ]
        },
        {
          "output_type": "stream",
          "name": "stderr",
          "text": [
            "\r 40%|████      | 40/100 [01:03<01:36,  1.61s/it]"
          ]
        },
        {
          "output_type": "stream",
          "name": "stdout",
          "text": [
            "   Epoch [040/100] Train Loss: 0.5041 Val Loss: 0.4966 \n"
          ]
        },
        {
          "output_type": "stream",
          "name": "stderr",
          "text": [
            "\r 41%|████      | 41/100 [01:04<01:36,  1.64s/it]"
          ]
        },
        {
          "output_type": "stream",
          "name": "stdout",
          "text": [
            "   Epoch [041/100] Train Loss: 0.5026 Val Loss: 0.4973 \n"
          ]
        },
        {
          "output_type": "stream",
          "name": "stderr",
          "text": [
            "\r 42%|████▏     | 42/100 [01:06<01:31,  1.59s/it]"
          ]
        },
        {
          "output_type": "stream",
          "name": "stdout",
          "text": [
            "   Epoch [042/100] Train Loss: 0.5037 Val Loss: 0.4965 \n"
          ]
        },
        {
          "output_type": "stream",
          "name": "stderr",
          "text": [
            "\r 43%|████▎     | 43/100 [01:07<01:28,  1.56s/it]"
          ]
        },
        {
          "output_type": "stream",
          "name": "stdout",
          "text": [
            "   Epoch [043/100] Train Loss: 0.5036 Val Loss: 0.4991 \n"
          ]
        },
        {
          "output_type": "stream",
          "name": "stderr",
          "text": [
            "\r 44%|████▍     | 44/100 [01:09<01:25,  1.53s/it]"
          ]
        },
        {
          "output_type": "stream",
          "name": "stdout",
          "text": [
            "   Epoch [044/100] Train Loss: 0.5054 Val Loss: 0.4962 \n"
          ]
        },
        {
          "output_type": "stream",
          "name": "stderr",
          "text": [
            "\r 45%|████▌     | 45/100 [01:10<01:23,  1.52s/it]"
          ]
        },
        {
          "output_type": "stream",
          "name": "stdout",
          "text": [
            "   Epoch [045/100] Train Loss: 0.5042 Val Loss: 0.5003 \n"
          ]
        },
        {
          "output_type": "stream",
          "name": "stderr",
          "text": [
            "\r 46%|████▌     | 46/100 [01:12<01:21,  1.51s/it]"
          ]
        },
        {
          "output_type": "stream",
          "name": "stdout",
          "text": [
            "   Epoch [046/100] Train Loss: 0.5027 Val Loss: 0.4934 \n"
          ]
        },
        {
          "output_type": "stream",
          "name": "stderr",
          "text": [
            "\r 47%|████▋     | 47/100 [01:13<01:19,  1.50s/it]"
          ]
        },
        {
          "output_type": "stream",
          "name": "stdout",
          "text": [
            "   Epoch [047/100] Train Loss: 0.4988 Val Loss: 0.4942 \n"
          ]
        },
        {
          "output_type": "stream",
          "name": "stderr",
          "text": [
            "\r 48%|████▊     | 48/100 [01:15<01:26,  1.67s/it]"
          ]
        },
        {
          "output_type": "stream",
          "name": "stdout",
          "text": [
            "   Epoch [048/100] Train Loss: 0.4950 Val Loss: 0.4894 🌸\n"
          ]
        },
        {
          "output_type": "stream",
          "name": "stderr",
          "text": [
            "\r 49%|████▉     | 49/100 [01:17<01:22,  1.61s/it]"
          ]
        },
        {
          "output_type": "stream",
          "name": "stdout",
          "text": [
            "   Epoch [049/100] Train Loss: 0.4931 Val Loss: 0.4906 \n"
          ]
        },
        {
          "output_type": "stream",
          "name": "stderr",
          "text": [
            "\r 50%|█████     | 50/100 [01:18<01:18,  1.56s/it]"
          ]
        },
        {
          "output_type": "stream",
          "name": "stdout",
          "text": [
            "   Epoch [050/100] Train Loss: 0.4921 Val Loss: 0.4909 \n"
          ]
        },
        {
          "output_type": "stream",
          "name": "stderr",
          "text": [
            "\r 51%|█████     | 51/100 [01:20<01:15,  1.54s/it]"
          ]
        },
        {
          "output_type": "stream",
          "name": "stdout",
          "text": [
            "   Epoch [051/100] Train Loss: 0.4905 Val Loss: 0.4890 🌸\n"
          ]
        },
        {
          "output_type": "stream",
          "name": "stderr",
          "text": [
            "\r 52%|█████▏    | 52/100 [01:21<01:12,  1.52s/it]"
          ]
        },
        {
          "output_type": "stream",
          "name": "stdout",
          "text": [
            "   Epoch [052/100] Train Loss: 0.4902 Val Loss: 0.4898 \n"
          ]
        },
        {
          "output_type": "stream",
          "name": "stderr",
          "text": [
            "\r 53%|█████▎    | 53/100 [01:23<01:10,  1.50s/it]"
          ]
        },
        {
          "output_type": "stream",
          "name": "stdout",
          "text": [
            "   Epoch [053/100] Train Loss: 0.4910 Val Loss: 0.4917 \n"
          ]
        },
        {
          "output_type": "stream",
          "name": "stderr",
          "text": [
            "\r 54%|█████▍    | 54/100 [01:24<01:09,  1.51s/it]"
          ]
        },
        {
          "output_type": "stream",
          "name": "stdout",
          "text": [
            "   Epoch [054/100] Train Loss: 0.4890 Val Loss: 0.4892 \n"
          ]
        },
        {
          "output_type": "stream",
          "name": "stderr",
          "text": [
            "\r 55%|█████▌    | 55/100 [01:26<01:08,  1.53s/it]"
          ]
        },
        {
          "output_type": "stream",
          "name": "stdout",
          "text": [
            "   Epoch [055/100] Train Loss: 0.4913 Val Loss: 0.4912 \n"
          ]
        },
        {
          "output_type": "stream",
          "name": "stderr",
          "text": [
            "\r 56%|█████▌    | 56/100 [01:28<01:12,  1.64s/it]"
          ]
        },
        {
          "output_type": "stream",
          "name": "stdout",
          "text": [
            "   Epoch [056/100] Train Loss: 0.4884 Val Loss: 0.4890 🌸\n"
          ]
        },
        {
          "output_type": "stream",
          "name": "stderr",
          "text": [
            "\r 57%|█████▋    | 57/100 [01:29<01:08,  1.59s/it]"
          ]
        },
        {
          "output_type": "stream",
          "name": "stdout",
          "text": [
            "   Epoch [057/100] Train Loss: 0.4885 Val Loss: 0.4904 \n"
          ]
        },
        {
          "output_type": "stream",
          "name": "stderr",
          "text": [
            "\r 58%|█████▊    | 58/100 [01:30<01:05,  1.56s/it]"
          ]
        },
        {
          "output_type": "stream",
          "name": "stdout",
          "text": [
            "   Epoch [058/100] Train Loss: 0.4882 Val Loss: 0.4893 \n"
          ]
        },
        {
          "output_type": "stream",
          "name": "stderr",
          "text": [
            "\r 59%|█████▉    | 59/100 [01:32<01:02,  1.53s/it]"
          ]
        },
        {
          "output_type": "stream",
          "name": "stdout",
          "text": [
            "   Epoch [059/100] Train Loss: 0.4864 Val Loss: 0.4908 \n"
          ]
        },
        {
          "output_type": "stream",
          "name": "stderr",
          "text": [
            "\r 60%|██████    | 60/100 [01:33<01:00,  1.52s/it]"
          ]
        },
        {
          "output_type": "stream",
          "name": "stdout",
          "text": [
            "   Epoch [060/100] Train Loss: 0.4868 Val Loss: 0.4878 🌸\n"
          ]
        },
        {
          "output_type": "stream",
          "name": "stderr",
          "text": [
            "\r 61%|██████    | 61/100 [01:35<00:58,  1.51s/it]"
          ]
        },
        {
          "output_type": "stream",
          "name": "stdout",
          "text": [
            "   Epoch [061/100] Train Loss: 0.4884 Val Loss: 0.4890 \n"
          ]
        },
        {
          "output_type": "stream",
          "name": "stderr",
          "text": [
            "\r 62%|██████▏   | 62/100 [01:36<00:56,  1.50s/it]"
          ]
        },
        {
          "output_type": "stream",
          "name": "stdout",
          "text": [
            "   Epoch [062/100] Train Loss: 0.4876 Val Loss: 0.4915 \n"
          ]
        },
        {
          "output_type": "stream",
          "name": "stderr",
          "text": [
            "\r 63%|██████▎   | 63/100 [01:38<00:57,  1.56s/it]"
          ]
        },
        {
          "output_type": "stream",
          "name": "stdout",
          "text": [
            "   Epoch [063/100] Train Loss: 0.4859 Val Loss: 0.4903 \n"
          ]
        },
        {
          "output_type": "stream",
          "name": "stderr",
          "text": [
            "\r 64%|██████▍   | 64/100 [01:40<00:59,  1.64s/it]"
          ]
        },
        {
          "output_type": "stream",
          "name": "stdout",
          "text": [
            "   Epoch [064/100] Train Loss: 0.4869 Val Loss: 0.4903 \n"
          ]
        },
        {
          "output_type": "stream",
          "name": "stderr",
          "text": [
            "\r 65%|██████▌   | 65/100 [01:41<00:55,  1.59s/it]"
          ]
        },
        {
          "output_type": "stream",
          "name": "stdout",
          "text": [
            "   Epoch [065/100] Train Loss: 0.4849 Val Loss: 0.4885 \n"
          ]
        },
        {
          "output_type": "stream",
          "name": "stderr",
          "text": [
            "\r 66%|██████▌   | 66/100 [01:43<00:52,  1.55s/it]"
          ]
        },
        {
          "output_type": "stream",
          "name": "stdout",
          "text": [
            "   Epoch [066/100] Train Loss: 0.4876 Val Loss: 0.4912 \n"
          ]
        },
        {
          "output_type": "stream",
          "name": "stderr",
          "text": [
            "\r 67%|██████▋   | 67/100 [01:44<00:50,  1.53s/it]"
          ]
        },
        {
          "output_type": "stream",
          "name": "stdout",
          "text": [
            "   Epoch [067/100] Train Loss: 0.4845 Val Loss: 0.4889 \n"
          ]
        },
        {
          "output_type": "stream",
          "name": "stderr",
          "text": [
            "\r 68%|██████▊   | 68/100 [01:46<00:48,  1.51s/it]"
          ]
        },
        {
          "output_type": "stream",
          "name": "stdout",
          "text": [
            "   Epoch [068/100] Train Loss: 0.4839 Val Loss: 0.4885 \n"
          ]
        },
        {
          "output_type": "stream",
          "name": "stderr",
          "text": [
            "\r 69%|██████▉   | 69/100 [01:47<00:46,  1.50s/it]"
          ]
        },
        {
          "output_type": "stream",
          "name": "stdout",
          "text": [
            "   Epoch [069/100] Train Loss: 0.4844 Val Loss: 0.4896 \n"
          ]
        },
        {
          "output_type": "stream",
          "name": "stderr",
          "text": [
            "\r 70%|███████   | 70/100 [01:49<00:44,  1.49s/it]"
          ]
        },
        {
          "output_type": "stream",
          "name": "stdout",
          "text": [
            "   Epoch [070/100] Train Loss: 0.4815 Val Loss: 0.4886 \n"
          ]
        },
        {
          "output_type": "stream",
          "name": "stderr",
          "text": [
            "\r 71%|███████   | 71/100 [01:51<00:45,  1.58s/it]"
          ]
        },
        {
          "output_type": "stream",
          "name": "stdout",
          "text": [
            "   Epoch [071/100] Train Loss: 0.4841 Val Loss: 0.4911 \n"
          ]
        },
        {
          "output_type": "stream",
          "name": "stderr",
          "text": [
            "\r 72%|███████▏  | 72/100 [01:52<00:45,  1.63s/it]"
          ]
        },
        {
          "output_type": "stream",
          "name": "stdout",
          "text": [
            "   Epoch [072/100] Train Loss: 0.4813 Val Loss: 0.4877 🌸\n"
          ]
        },
        {
          "output_type": "stream",
          "name": "stderr",
          "text": [
            "\r 73%|███████▎  | 73/100 [01:54<00:43,  1.60s/it]"
          ]
        },
        {
          "output_type": "stream",
          "name": "stdout",
          "text": [
            "   Epoch [073/100] Train Loss: 0.4786 Val Loss: 0.4861 🌸\n"
          ]
        },
        {
          "output_type": "stream",
          "name": "stderr",
          "text": [
            "\r 74%|███████▍  | 74/100 [01:55<00:40,  1.56s/it]"
          ]
        },
        {
          "output_type": "stream",
          "name": "stdout",
          "text": [
            "   Epoch [074/100] Train Loss: 0.4790 Val Loss: 0.4875 \n"
          ]
        },
        {
          "output_type": "stream",
          "name": "stderr",
          "text": [
            "\r 75%|███████▌  | 75/100 [01:57<00:38,  1.53s/it]"
          ]
        },
        {
          "output_type": "stream",
          "name": "stdout",
          "text": [
            "   Epoch [075/100] Train Loss: 0.4795 Val Loss: 0.4878 \n"
          ]
        },
        {
          "output_type": "stream",
          "name": "stderr",
          "text": [
            "\r 76%|███████▌  | 76/100 [01:58<00:36,  1.51s/it]"
          ]
        },
        {
          "output_type": "stream",
          "name": "stdout",
          "text": [
            "   Epoch [076/100] Train Loss: 0.4768 Val Loss: 0.4867 \n"
          ]
        },
        {
          "output_type": "stream",
          "name": "stderr",
          "text": [
            "\r 77%|███████▋  | 77/100 [02:00<00:34,  1.50s/it]"
          ]
        },
        {
          "output_type": "stream",
          "name": "stdout",
          "text": [
            "   Epoch [077/100] Train Loss: 0.4785 Val Loss: 0.4880 \n"
          ]
        },
        {
          "output_type": "stream",
          "name": "stderr",
          "text": [
            "\r 78%|███████▊  | 78/100 [02:01<00:32,  1.50s/it]"
          ]
        },
        {
          "output_type": "stream",
          "name": "stdout",
          "text": [
            "   Epoch [078/100] Train Loss: 0.4792 Val Loss: 0.4868 \n"
          ]
        },
        {
          "output_type": "stream",
          "name": "stderr",
          "text": [
            "\r 79%|███████▉  | 79/100 [02:03<00:34,  1.63s/it]"
          ]
        },
        {
          "output_type": "stream",
          "name": "stdout",
          "text": [
            "   Epoch [079/100] Train Loss: 0.4793 Val Loss: 0.4869 \n"
          ]
        },
        {
          "output_type": "stream",
          "name": "stderr",
          "text": [
            "\r 80%|████████  | 80/100 [02:05<00:32,  1.62s/it]"
          ]
        },
        {
          "output_type": "stream",
          "name": "stdout",
          "text": [
            "   Epoch [080/100] Train Loss: 0.4786 Val Loss: 0.4856 🌸\n"
          ]
        },
        {
          "output_type": "stream",
          "name": "stderr",
          "text": [
            "\r 81%|████████  | 81/100 [02:06<00:30,  1.58s/it]"
          ]
        },
        {
          "output_type": "stream",
          "name": "stdout",
          "text": [
            "   Epoch [081/100] Train Loss: 0.4756 Val Loss: 0.4858 \n"
          ]
        },
        {
          "output_type": "stream",
          "name": "stderr",
          "text": [
            "\r 82%|████████▏ | 82/100 [02:08<00:27,  1.55s/it]"
          ]
        },
        {
          "output_type": "stream",
          "name": "stdout",
          "text": [
            "   Epoch [082/100] Train Loss: 0.4765 Val Loss: 0.4876 \n"
          ]
        },
        {
          "output_type": "stream",
          "name": "stderr",
          "text": [
            "\r 83%|████████▎ | 83/100 [02:09<00:26,  1.54s/it]"
          ]
        },
        {
          "output_type": "stream",
          "name": "stdout",
          "text": [
            "   Epoch [083/100] Train Loss: 0.4783 Val Loss: 0.4884 \n"
          ]
        },
        {
          "output_type": "stream",
          "name": "stderr",
          "text": [
            "\r 84%|████████▍ | 84/100 [02:11<00:24,  1.53s/it]"
          ]
        },
        {
          "output_type": "stream",
          "name": "stdout",
          "text": [
            "   Epoch [084/100] Train Loss: 0.4772 Val Loss: 0.4894 \n"
          ]
        },
        {
          "output_type": "stream",
          "name": "stderr",
          "text": [
            "\r 85%|████████▌ | 85/100 [02:12<00:22,  1.53s/it]"
          ]
        },
        {
          "output_type": "stream",
          "name": "stdout",
          "text": [
            "   Epoch [085/100] Train Loss: 0.4756 Val Loss: 0.4889 \n"
          ]
        },
        {
          "output_type": "stream",
          "name": "stderr",
          "text": [
            "\r 86%|████████▌ | 86/100 [02:14<00:21,  1.56s/it]"
          ]
        },
        {
          "output_type": "stream",
          "name": "stdout",
          "text": [
            "   Epoch [086/100] Train Loss: 0.4776 Val Loss: 0.4890 \n"
          ]
        },
        {
          "output_type": "stream",
          "name": "stderr",
          "text": [
            "\r 87%|████████▋ | 87/100 [02:16<00:21,  1.68s/it]"
          ]
        },
        {
          "output_type": "stream",
          "name": "stdout",
          "text": [
            "   Epoch [087/100] Train Loss: 0.4779 Val Loss: 0.4884 \n"
          ]
        },
        {
          "output_type": "stream",
          "name": "stderr",
          "text": [
            "\r 88%|████████▊ | 88/100 [02:17<00:19,  1.63s/it]"
          ]
        },
        {
          "output_type": "stream",
          "name": "stdout",
          "text": [
            "   Epoch [088/100] Train Loss: 0.4768 Val Loss: 0.4874 \n"
          ]
        },
        {
          "output_type": "stream",
          "name": "stderr",
          "text": [
            "\r 89%|████████▉ | 89/100 [02:19<00:17,  1.62s/it]"
          ]
        },
        {
          "output_type": "stream",
          "name": "stdout",
          "text": [
            "   Epoch [089/100] Train Loss: 0.4772 Val Loss: 0.4889 \n"
          ]
        },
        {
          "output_type": "stream",
          "name": "stderr",
          "text": [
            "\r 90%|█████████ | 90/100 [02:20<00:15,  1.58s/it]"
          ]
        },
        {
          "output_type": "stream",
          "name": "stdout",
          "text": [
            "   Epoch [090/100] Train Loss: 0.4762 Val Loss: 0.4880 \n"
          ]
        },
        {
          "output_type": "stream",
          "name": "stderr",
          "text": [
            "\r 91%|█████████ | 91/100 [02:22<00:14,  1.56s/it]"
          ]
        },
        {
          "output_type": "stream",
          "name": "stdout",
          "text": [
            "   Epoch [091/100] Train Loss: 0.4751 Val Loss: 0.4873 \n"
          ]
        },
        {
          "output_type": "stream",
          "name": "stderr",
          "text": [
            "\r 92%|█████████▏| 92/100 [02:23<00:12,  1.54s/it]"
          ]
        },
        {
          "output_type": "stream",
          "name": "stdout",
          "text": [
            "   Epoch [092/100] Train Loss: 0.4734 Val Loss: 0.4871 \n"
          ]
        },
        {
          "output_type": "stream",
          "name": "stderr",
          "text": [
            "\r 93%|█████████▎| 93/100 [02:25<00:10,  1.53s/it]"
          ]
        },
        {
          "output_type": "stream",
          "name": "stdout",
          "text": [
            "   Epoch [093/100] Train Loss: 0.4713 Val Loss: 0.4871 \n"
          ]
        },
        {
          "output_type": "stream",
          "name": "stderr",
          "text": [
            "\r 94%|█████████▍| 94/100 [02:27<00:09,  1.60s/it]"
          ]
        },
        {
          "output_type": "stream",
          "name": "stdout",
          "text": [
            "   Epoch [094/100] Train Loss: 0.4716 Val Loss: 0.4871 \n"
          ]
        },
        {
          "output_type": "stream",
          "name": "stderr",
          "text": [
            "\r 95%|█████████▌| 95/100 [02:28<00:08,  1.64s/it]"
          ]
        },
        {
          "output_type": "stream",
          "name": "stdout",
          "text": [
            "   Epoch [095/100] Train Loss: 0.4709 Val Loss: 0.4868 \n"
          ]
        },
        {
          "output_type": "stream",
          "name": "stderr",
          "text": [
            "\r 96%|█████████▌| 96/100 [02:30<00:06,  1.59s/it]"
          ]
        },
        {
          "output_type": "stream",
          "name": "stdout",
          "text": [
            "   Epoch [096/100] Train Loss: 0.4728 Val Loss: 0.4869 \n"
          ]
        },
        {
          "output_type": "stream",
          "name": "stderr",
          "text": [
            "\r 97%|█████████▋| 97/100 [02:31<00:04,  1.56s/it]"
          ]
        },
        {
          "output_type": "stream",
          "name": "stdout",
          "text": [
            "   Epoch [097/100] Train Loss: 0.4737 Val Loss: 0.4864 \n"
          ]
        },
        {
          "output_type": "stream",
          "name": "stderr",
          "text": [
            "\r 98%|█████████▊| 98/100 [02:33<00:03,  1.53s/it]"
          ]
        },
        {
          "output_type": "stream",
          "name": "stdout",
          "text": [
            "   Epoch [098/100] Train Loss: 0.4716 Val Loss: 0.4864 \n"
          ]
        },
        {
          "output_type": "stream",
          "name": "stderr",
          "text": [
            "\r 99%|█████████▉| 99/100 [02:34<00:01,  1.52s/it]"
          ]
        },
        {
          "output_type": "stream",
          "name": "stdout",
          "text": [
            "   Epoch [099/100] Train Loss: 0.4717 Val Loss: 0.4866 \n"
          ]
        },
        {
          "output_type": "stream",
          "name": "stderr",
          "text": [
            "100%|██████████| 100/100 [02:36<00:00,  1.56s/it]"
          ]
        },
        {
          "output_type": "stream",
          "name": "stdout",
          "text": [
            "  Epoch [100/100] Train Loss: 0.4716 Val Loss: 0.4868 \n"
          ]
        },
        {
          "output_type": "stream",
          "name": "stderr",
          "text": [
            "\n"
          ]
        }
      ]
    },
    {
      "cell_type": "code",
      "source": [
        "graph_results()"
      ],
      "metadata": {
        "colab": {
          "base_uri": "https://localhost:8080/",
          "height": 403
        },
        "id": "s9GXiUauM5oe",
        "outputId": "a0036834-9a7e-4d4b-8af8-feffade0c242"
      },
      "execution_count": 72,
      "outputs": [
        {
          "output_type": "display_data",
          "data": {
            "text/plain": [
              "<Figure size 1000x600 with 1 Axes>"
            ],
            "image/png": "[encoded data removed]"
          },
          "metadata": {}
        }
      ]
    },
    {
      "cell_type": "code",
      "source": [
        "def train_tabm(\n",
        "    use_categoricals: bool = True,\n",
        "    n_epochs = 100,\n",
        "    patience = 10,\n",
        "    batch_size = 256,\n",
        "    eval_batch_size = 8192,\n",
        "    k: int = 32,\n",
        "    lr: float = 2e-3,\n",
        "    weight_decay: float = 3e-4,\n",
        "    n_blocks: int = 3,\n",
        "    d_block: int = 512,\n",
        "    dropout: float = 0.1,\n",
        "    seed: int = 42,\n",
        "):\n",
        "    torch.manual_seed(seed)\n",
        "    np.random.seed(seed)\n",
        "    random.seed(seed)\n",
        "    if torch.cuda.is_available():\n",
        "        torch.cuda.manual_seed_all(seed)\n",
        "    torch.backends.cudnn.deterministic = True\n",
        "    torch.backends.cudnn.benchmark = False\n",
        "\n",
        "    device = torch.device('cuda' if torch.cuda.is_available() else 'cpu')\n",
        "    amp = torch.cuda.is_available() and torch.cuda.is_bf16_supported()\n",
        "\n",
        "    train_loader = DataLoader(train_dataset, batch_size=batch_size, shuffle=True)\n",
        "    val_loader   = DataLoader(val_dataset,   batch_size=eval_batch_size)\n",
        "\n",
        "    model = Model(\n",
        "        n_num_features=n_cont_features,\n",
        "        cat_cardinalities=cat_cardinalities if use_categoricals else [],\n",
        "        n_classes=None,\n",
        "        backbone={\n",
        "            'type': 'MLP',\n",
        "            'n_blocks': n_blocks,\n",
        "            'd_block': d_block,\n",
        "            'dropout': dropout,\n",
        "        },\n",
        "        bins=None,\n",
        "        arch_type='tabm',\n",
        "        k=k,\n",
        "    ).to(device)\n",
        "\n",
        "    criterion = nn.MSELoss()\n",
        "    optimizer = torch.optim.AdamW(make_parameter_groups(model), lr=lr, weight_decay=weight_decay)\n",
        "    scheduler = torch.optim.lr_scheduler.ReduceLROnPlateau(optimizer, factor=0.5, patience=patience)\n",
        "\n",
        "    best_score = np.inf\n",
        "    best_epoch = -1\n",
        "    epoch_train_losses = np.empty(n_epochs)\n",
        "    epoch_val_losses = np.empty(n_epochs)\n",
        "    for epoch in trange(n_epochs):\n",
        "        model.train()\n",
        "        train_losses = []\n",
        "        for xnb, xcb, yb in train_loader:\n",
        "            optimizer.zero_grad()\n",
        "            xnb, xcb, yb = xnb.to(device), xcb.to(device), yb.to(device)\n",
        "            with torch.autocast(device.type, enabled=amp, dtype=torch.bfloat16):\n",
        "                out = model(xnb, xcb if use_categoricals else None).squeeze(-1)\n",
        "            loss = criterion(out.float().flatten(0, 1), yb.repeat_interleave(k))\n",
        "            train_losses += [loss.item()]\n",
        "            loss.backward()\n",
        "            optimizer.step()\n",
        "        avg_train_loss = np.mean(train_losses)\n",
        "        epoch_train_losses[epoch] = avg_train_loss\n",
        "\n",
        "        model.eval()\n",
        "        val_losses = []\n",
        "        with torch.inference_mode():\n",
        "            for xnb, xcb, yb in val_loader:\n",
        "                xnb, xcb, yb = xnb.to(device), xcb.to(device), yb.to(device)\n",
        "                with torch.autocast(device.type, enabled=amp, dtype=torch.bfloat16):\n",
        "                    out = model(xnb, xcb if use_categoricals else None).squeeze(-1)\n",
        "                loss = criterion(out.float().mean(dim=1, keepdim=True), yb)\n",
        "                val_losses += [loss.item()]\n",
        "            avg_val_loss = np.mean(val_losses)\n",
        "            epoch_val_losses[epoch] = avg_val_loss\n",
        "            scheduler.step(avg_val_loss)\n",
        "\n",
        "        if avg_val_loss < best_score:\n",
        "            best_score = avg_val_loss\n",
        "            best_epoch = epoch\n",
        "\n",
        "        print(\n",
        "            f\" {' ' * max(0, 4 - len(str(epoch+1)))}\" +\n",
        "            f\"Epoch [{epoch+1:03d}/{n_epochs}] \" +\n",
        "            f\"Train Loss: {avg_train_loss:.4f} \" +\n",
        "            f\"Val Loss: {avg_val_loss:.4f} \" +\n",
        "            (\"🌸\" if epoch == best_epoch else \"\")\n",
        "        )\n",
        "\n",
        "    return dict(zip(split_labels, (epoch_train_losses.tolist(), epoch_val_losses.tolist())))"
      ],
      "metadata": {
        "id": "BMZOBCUDui4c"
      },
      "execution_count": 89,
      "outputs": []
    },
    {
      "cell_type": "code",
      "source": [
        "results['TabM'] = train_tabm(use_categoricals=False)"
      ],
      "metadata": {
        "colab": {
          "base_uri": "https://localhost:8080/"
        },
        "id": "zkj4fCO-JibU",
        "outputId": "07413923-b565-4293-82a8-38261969af83"
      },
      "execution_count": 74,
      "outputs": [
        {
          "output_type": "stream",
          "name": "stderr",
          "text": [
            "  1%|          | 1/100 [00:04<07:41,  4.67s/it]"
          ]
        },
        {
          "output_type": "stream",
          "name": "stdout",
          "text": [
            "    Epoch [001/100] Train Loss: 0.7359 Val Loss: 0.6461 🌸\n"
          ]
        },
        {
          "output_type": "stream",
          "name": "stderr",
          "text": [
            "\r  2%|▏         | 2/100 [00:08<07:16,  4.46s/it]"
          ]
        },
        {
          "output_type": "stream",
          "name": "stdout",
          "text": [
            "    Epoch [002/100] Train Loss: 0.5922 Val Loss: 0.5294 🌸\n"
          ]
        },
        {
          "output_type": "stream",
          "name": "stderr",
          "text": [
            "\r  3%|▎         | 3/100 [00:13<07:19,  4.53s/it]"
          ]
        },
        {
          "output_type": "stream",
          "name": "stdout",
          "text": [
            "    Epoch [003/100] Train Loss: 0.5674 Val Loss: 0.5261 🌸\n"
          ]
        },
        {
          "output_type": "stream",
          "name": "stderr",
          "text": [
            "\r  4%|▍         | 4/100 [00:18<07:30,  4.69s/it]"
          ]
        },
        {
          "output_type": "stream",
          "name": "stdout",
          "text": [
            "    Epoch [004/100] Train Loss: 0.5514 Val Loss: 0.5168 🌸\n"
          ]
        },
        {
          "output_type": "stream",
          "name": "stderr",
          "text": [
            "\r  5%|▌         | 5/100 [00:22<07:13,  4.56s/it]"
          ]
        },
        {
          "output_type": "stream",
          "name": "stdout",
          "text": [
            "    Epoch [005/100] Train Loss: 0.5435 Val Loss: 0.5110 🌸\n"
          ]
        },
        {
          "output_type": "stream",
          "name": "stderr",
          "text": [
            "\r  6%|▌         | 6/100 [00:27<07:13,  4.61s/it]"
          ]
        },
        {
          "output_type": "stream",
          "name": "stdout",
          "text": [
            "    Epoch [006/100] Train Loss: 0.5382 Val Loss: 0.5111 \n"
          ]
        },
        {
          "output_type": "stream",
          "name": "stderr",
          "text": [
            "\r  7%|▋         | 7/100 [00:31<06:58,  4.50s/it]"
          ]
        },
        {
          "output_type": "stream",
          "name": "stdout",
          "text": [
            "    Epoch [007/100] Train Loss: 0.5317 Val Loss: 0.5073 🌸\n"
          ]
        },
        {
          "output_type": "stream",
          "name": "stderr",
          "text": [
            "\r  8%|▊         | 8/100 [00:36<06:53,  4.50s/it]"
          ]
        },
        {
          "output_type": "stream",
          "name": "stdout",
          "text": [
            "    Epoch [008/100] Train Loss: 0.5280 Val Loss: 0.5063 🌸\n"
          ]
        },
        {
          "output_type": "stream",
          "name": "stderr",
          "text": [
            "\r  9%|▉         | 9/100 [00:40<06:50,  4.51s/it]"
          ]
        },
        {
          "output_type": "stream",
          "name": "stdout",
          "text": [
            "    Epoch [009/100] Train Loss: 0.5243 Val Loss: 0.5042 🌸\n"
          ]
        },
        {
          "output_type": "stream",
          "name": "stderr",
          "text": [
            "\r 10%|█         | 10/100 [00:45<06:37,  4.41s/it]"
          ]
        },
        {
          "output_type": "stream",
          "name": "stdout",
          "text": [
            "   Epoch [010/100] Train Loss: 0.5188 Val Loss: 0.5006 🌸\n"
          ]
        },
        {
          "output_type": "stream",
          "name": "stderr",
          "text": [
            "\r 11%|█         | 11/100 [00:49<06:33,  4.42s/it]"
          ]
        },
        {
          "output_type": "stream",
          "name": "stdout",
          "text": [
            "   Epoch [011/100] Train Loss: 0.5171 Val Loss: 0.4994 🌸\n"
          ]
        },
        {
          "output_type": "stream",
          "name": "stderr",
          "text": [
            "\r 12%|█▏        | 12/100 [00:53<06:22,  4.35s/it]"
          ]
        },
        {
          "output_type": "stream",
          "name": "stdout",
          "text": [
            "   Epoch [012/100] Train Loss: 0.5146 Val Loss: 0.5810 \n"
          ]
        },
        {
          "output_type": "stream",
          "name": "stderr",
          "text": [
            "\r 13%|█▎        | 13/100 [00:58<06:19,  4.36s/it]"
          ]
        },
        {
          "output_type": "stream",
          "name": "stdout",
          "text": [
            "   Epoch [013/100] Train Loss: 0.5117 Val Loss: 0.5017 \n"
          ]
        },
        {
          "output_type": "stream",
          "name": "stderr",
          "text": [
            "\r 14%|█▍        | 14/100 [01:02<06:18,  4.40s/it]"
          ]
        },
        {
          "output_type": "stream",
          "name": "stdout",
          "text": [
            "   Epoch [014/100] Train Loss: 0.5139 Val Loss: 0.4964 🌸\n"
          ]
        },
        {
          "output_type": "stream",
          "name": "stderr",
          "text": [
            "\r 15%|█▌        | 15/100 [01:06<06:08,  4.33s/it]"
          ]
        },
        {
          "output_type": "stream",
          "name": "stdout",
          "text": [
            "   Epoch [015/100] Train Loss: 0.5298 Val Loss: 0.4969 \n"
          ]
        },
        {
          "output_type": "stream",
          "name": "stderr",
          "text": [
            "\r 16%|█▌        | 16/100 [01:11<06:05,  4.35s/it]"
          ]
        },
        {
          "output_type": "stream",
          "name": "stdout",
          "text": [
            "   Epoch [016/100] Train Loss: 0.5372 Val Loss: 0.4945 🌸\n"
          ]
        },
        {
          "output_type": "stream",
          "name": "stderr",
          "text": [
            "\r 17%|█▋        | 17/100 [01:15<05:58,  4.32s/it]"
          ]
        },
        {
          "output_type": "stream",
          "name": "stdout",
          "text": [
            "   Epoch [017/100] Train Loss: 0.5091 Val Loss: 0.4935 🌸\n"
          ]
        },
        {
          "output_type": "stream",
          "name": "stderr",
          "text": [
            "\r 18%|█▊        | 18/100 [01:19<05:56,  4.34s/it]"
          ]
        },
        {
          "output_type": "stream",
          "name": "stdout",
          "text": [
            "   Epoch [018/100] Train Loss: 0.5044 Val Loss: 0.4946 \n"
          ]
        },
        {
          "output_type": "stream",
          "name": "stderr",
          "text": [
            "\r 19%|█▉        | 19/100 [01:24<05:53,  4.37s/it]"
          ]
        },
        {
          "output_type": "stream",
          "name": "stdout",
          "text": [
            "   Epoch [019/100] Train Loss: 0.5028 Val Loss: 0.4917 🌸\n"
          ]
        },
        {
          "output_type": "stream",
          "name": "stderr",
          "text": [
            "\r 20%|██        | 20/100 [01:28<05:46,  4.33s/it]"
          ]
        },
        {
          "output_type": "stream",
          "name": "stdout",
          "text": [
            "   Epoch [020/100] Train Loss: 0.4992 Val Loss: 0.4936 \n"
          ]
        },
        {
          "output_type": "stream",
          "name": "stderr",
          "text": [
            "\r 21%|██        | 21/100 [01:32<05:44,  4.36s/it]"
          ]
        },
        {
          "output_type": "stream",
          "name": "stdout",
          "text": [
            "   Epoch [021/100] Train Loss: 0.4976 Val Loss: 0.4915 🌸\n"
          ]
        },
        {
          "output_type": "stream",
          "name": "stderr",
          "text": [
            "\r 22%|██▏       | 22/100 [01:37<05:36,  4.31s/it]"
          ]
        },
        {
          "output_type": "stream",
          "name": "stdout",
          "text": [
            "   Epoch [022/100] Train Loss: 0.4948 Val Loss: 0.4858 🌸\n"
          ]
        },
        {
          "output_type": "stream",
          "name": "stderr",
          "text": [
            "\r 23%|██▎       | 23/100 [01:41<05:35,  4.36s/it]"
          ]
        },
        {
          "output_type": "stream",
          "name": "stdout",
          "text": [
            "   Epoch [023/100] Train Loss: 0.4946 Val Loss: 0.4857 🌸\n"
          ]
        },
        {
          "output_type": "stream",
          "name": "stderr",
          "text": [
            "\r 24%|██▍       | 24/100 [01:45<05:33,  4.39s/it]"
          ]
        },
        {
          "output_type": "stream",
          "name": "stdout",
          "text": [
            "   Epoch [024/100] Train Loss: 0.4933 Val Loss: 0.4877 \n"
          ]
        },
        {
          "output_type": "stream",
          "name": "stderr",
          "text": [
            "\r 25%|██▌       | 25/100 [01:50<05:25,  4.34s/it]"
          ]
        },
        {
          "output_type": "stream",
          "name": "stdout",
          "text": [
            "   Epoch [025/100] Train Loss: 0.4882 Val Loss: 0.4868 \n"
          ]
        },
        {
          "output_type": "stream",
          "name": "stderr",
          "text": [
            "\r 26%|██▌       | 26/100 [01:54<05:24,  4.38s/it]"
          ]
        },
        {
          "output_type": "stream",
          "name": "stdout",
          "text": [
            "   Epoch [026/100] Train Loss: 0.4866 Val Loss: 0.4840 🌸\n"
          ]
        },
        {
          "output_type": "stream",
          "name": "stderr",
          "text": [
            "\r 27%|██▋       | 27/100 [01:58<05:16,  4.33s/it]"
          ]
        },
        {
          "output_type": "stream",
          "name": "stdout",
          "text": [
            "   Epoch [027/100] Train Loss: 0.4854 Val Loss: 0.4871 \n"
          ]
        },
        {
          "output_type": "stream",
          "name": "stderr",
          "text": [
            "\r 28%|██▊       | 28/100 [02:03<05:16,  4.39s/it]"
          ]
        },
        {
          "output_type": "stream",
          "name": "stdout",
          "text": [
            "   Epoch [028/100] Train Loss: 0.4831 Val Loss: 0.4859 \n"
          ]
        },
        {
          "output_type": "stream",
          "name": "stderr",
          "text": [
            "\r 29%|██▉       | 29/100 [02:07<05:13,  4.41s/it]"
          ]
        },
        {
          "output_type": "stream",
          "name": "stdout",
          "text": [
            "   Epoch [029/100] Train Loss: 0.4815 Val Loss: 0.4893 \n"
          ]
        },
        {
          "output_type": "stream",
          "name": "stderr",
          "text": [
            "\r 30%|███       | 30/100 [02:12<05:04,  4.35s/it]"
          ]
        },
        {
          "output_type": "stream",
          "name": "stdout",
          "text": [
            "   Epoch [030/100] Train Loss: 0.4795 Val Loss: 0.4842 \n"
          ]
        },
        {
          "output_type": "stream",
          "name": "stderr",
          "text": [
            "\r 31%|███       | 31/100 [02:16<05:04,  4.42s/it]"
          ]
        },
        {
          "output_type": "stream",
          "name": "stdout",
          "text": [
            "   Epoch [031/100] Train Loss: 0.4788 Val Loss: 0.4809 🌸\n"
          ]
        },
        {
          "output_type": "stream",
          "name": "stderr",
          "text": [
            "\r 32%|███▏      | 32/100 [02:20<04:55,  4.35s/it]"
          ]
        },
        {
          "output_type": "stream",
          "name": "stdout",
          "text": [
            "   Epoch [032/100] Train Loss: 0.4797 Val Loss: 0.4796 🌸\n"
          ]
        },
        {
          "output_type": "stream",
          "name": "stderr",
          "text": [
            "\r 33%|███▎      | 33/100 [02:25<04:52,  4.36s/it]"
          ]
        },
        {
          "output_type": "stream",
          "name": "stdout",
          "text": [
            "   Epoch [033/100] Train Loss: 0.4758 Val Loss: 0.4797 \n"
          ]
        },
        {
          "output_type": "stream",
          "name": "stderr",
          "text": [
            "\r 34%|███▍      | 34/100 [02:29<04:49,  4.38s/it]"
          ]
        },
        {
          "output_type": "stream",
          "name": "stdout",
          "text": [
            "   Epoch [034/100] Train Loss: 0.4743 Val Loss: 0.4823 \n"
          ]
        },
        {
          "output_type": "stream",
          "name": "stderr",
          "text": [
            "\r 35%|███▌      | 35/100 [02:33<04:41,  4.33s/it]"
          ]
        },
        {
          "output_type": "stream",
          "name": "stdout",
          "text": [
            "   Epoch [035/100] Train Loss: 0.4756 Val Loss: 0.4804 \n"
          ]
        },
        {
          "output_type": "stream",
          "name": "stderr",
          "text": [
            "\r 36%|███▌      | 36/100 [02:38<04:38,  4.35s/it]"
          ]
        },
        {
          "output_type": "stream",
          "name": "stdout",
          "text": [
            "   Epoch [036/100] Train Loss: 0.4897 Val Loss: 0.4834 \n"
          ]
        },
        {
          "output_type": "stream",
          "name": "stderr",
          "text": [
            "\r 37%|███▋      | 37/100 [02:42<04:31,  4.31s/it]"
          ]
        },
        {
          "output_type": "stream",
          "name": "stdout",
          "text": [
            "   Epoch [037/100] Train Loss: 0.4730 Val Loss: 0.4786 🌸\n"
          ]
        },
        {
          "output_type": "stream",
          "name": "stderr",
          "text": [
            "\r 38%|███▊      | 38/100 [02:46<04:28,  4.33s/it]"
          ]
        },
        {
          "output_type": "stream",
          "name": "stdout",
          "text": [
            "   Epoch [038/100] Train Loss: 0.4700 Val Loss: 0.4764 🌸\n"
          ]
        },
        {
          "output_type": "stream",
          "name": "stderr",
          "text": [
            "\r 39%|███▉      | 39/100 [02:51<04:27,  4.39s/it]"
          ]
        },
        {
          "output_type": "stream",
          "name": "stdout",
          "text": [
            "   Epoch [039/100] Train Loss: 0.4686 Val Loss: 0.4779 \n"
          ]
        },
        {
          "output_type": "stream",
          "name": "stderr",
          "text": [
            "\r 40%|████      | 40/100 [02:55<04:20,  4.34s/it]"
          ]
        },
        {
          "output_type": "stream",
          "name": "stdout",
          "text": [
            "   Epoch [040/100] Train Loss: 0.4657 Val Loss: 0.4777 \n"
          ]
        },
        {
          "output_type": "stream",
          "name": "stderr",
          "text": [
            "\r 41%|████      | 41/100 [03:00<04:17,  4.36s/it]"
          ]
        },
        {
          "output_type": "stream",
          "name": "stdout",
          "text": [
            "   Epoch [041/100] Train Loss: 0.4651 Val Loss: 0.4755 🌸\n"
          ]
        },
        {
          "output_type": "stream",
          "name": "stderr",
          "text": [
            "\r 42%|████▏     | 42/100 [03:04<04:16,  4.43s/it]"
          ]
        },
        {
          "output_type": "stream",
          "name": "stdout",
          "text": [
            "   Epoch [042/100] Train Loss: 0.4633 Val Loss: 0.4776 \n"
          ]
        },
        {
          "output_type": "stream",
          "name": "stderr",
          "text": [
            "\r 43%|████▎     | 43/100 [03:08<04:08,  4.37s/it]"
          ]
        },
        {
          "output_type": "stream",
          "name": "stdout",
          "text": [
            "   Epoch [043/100] Train Loss: 0.4634 Val Loss: 0.4769 \n"
          ]
        },
        {
          "output_type": "stream",
          "name": "stderr",
          "text": [
            "\r 44%|████▍     | 44/100 [03:13<04:06,  4.39s/it]"
          ]
        },
        {
          "output_type": "stream",
          "name": "stdout",
          "text": [
            "   Epoch [044/100] Train Loss: 0.4621 Val Loss: 0.4739 🌸\n"
          ]
        },
        {
          "output_type": "stream",
          "name": "stderr",
          "text": [
            "\r 45%|████▌     | 45/100 [03:17<03:58,  4.34s/it]"
          ]
        },
        {
          "output_type": "stream",
          "name": "stdout",
          "text": [
            "   Epoch [045/100] Train Loss: 0.4611 Val Loss: 0.4754 \n"
          ]
        },
        {
          "output_type": "stream",
          "name": "stderr",
          "text": [
            "\r 46%|████▌     | 46/100 [03:21<03:55,  4.36s/it]"
          ]
        },
        {
          "output_type": "stream",
          "name": "stdout",
          "text": [
            "   Epoch [046/100] Train Loss: 0.4614 Val Loss: 0.4745 \n"
          ]
        },
        {
          "output_type": "stream",
          "name": "stderr",
          "text": [
            "\r 47%|████▋     | 47/100 [03:26<03:52,  4.38s/it]"
          ]
        },
        {
          "output_type": "stream",
          "name": "stdout",
          "text": [
            "   Epoch [047/100] Train Loss: 0.4621 Val Loss: 0.4762 \n"
          ]
        },
        {
          "output_type": "stream",
          "name": "stderr",
          "text": [
            "\r 48%|████▊     | 48/100 [03:30<03:45,  4.34s/it]"
          ]
        },
        {
          "output_type": "stream",
          "name": "stdout",
          "text": [
            "   Epoch [048/100] Train Loss: 0.4636 Val Loss: 0.4742 \n"
          ]
        },
        {
          "output_type": "stream",
          "name": "stderr",
          "text": [
            "\r 49%|████▉     | 49/100 [03:35<03:42,  4.36s/it]"
          ]
        },
        {
          "output_type": "stream",
          "name": "stdout",
          "text": [
            "   Epoch [049/100] Train Loss: 0.4873 Val Loss: 0.4742 \n"
          ]
        },
        {
          "output_type": "stream",
          "name": "stderr",
          "text": [
            "\r 50%|█████     | 50/100 [03:39<03:36,  4.32s/it]"
          ]
        },
        {
          "output_type": "stream",
          "name": "stdout",
          "text": [
            "   Epoch [050/100] Train Loss: 0.5503 Val Loss: 0.4714 🌸\n"
          ]
        },
        {
          "output_type": "stream",
          "name": "stderr",
          "text": [
            "\r 51%|█████     | 51/100 [03:43<03:33,  4.35s/it]"
          ]
        },
        {
          "output_type": "stream",
          "name": "stdout",
          "text": [
            "   Epoch [051/100] Train Loss: 0.4580 Val Loss: 0.4773 \n"
          ]
        },
        {
          "output_type": "stream",
          "name": "stderr",
          "text": [
            "\r 52%|█████▏    | 52/100 [03:48<03:29,  4.37s/it]"
          ]
        },
        {
          "output_type": "stream",
          "name": "stdout",
          "text": [
            "   Epoch [052/100] Train Loss: 0.4559 Val Loss: 0.4715 \n"
          ]
        },
        {
          "output_type": "stream",
          "name": "stderr",
          "text": [
            "\r 53%|█████▎    | 53/100 [03:52<03:23,  4.34s/it]"
          ]
        },
        {
          "output_type": "stream",
          "name": "stdout",
          "text": [
            "   Epoch [053/100] Train Loss: 0.4573 Val Loss: 0.4705 🌸\n"
          ]
        },
        {
          "output_type": "stream",
          "name": "stderr",
          "text": [
            "\r 54%|█████▍    | 54/100 [03:56<03:20,  4.37s/it]"
          ]
        },
        {
          "output_type": "stream",
          "name": "stdout",
          "text": [
            "   Epoch [054/100] Train Loss: 0.4539 Val Loss: 0.4694 🌸\n"
          ]
        },
        {
          "output_type": "stream",
          "name": "stderr",
          "text": [
            "\r 55%|█████▌    | 55/100 [04:00<03:14,  4.31s/it]"
          ]
        },
        {
          "output_type": "stream",
          "name": "stdout",
          "text": [
            "   Epoch [055/100] Train Loss: 0.4529 Val Loss: 0.4704 \n"
          ]
        },
        {
          "output_type": "stream",
          "name": "stderr",
          "text": [
            "\r 56%|█████▌    | 56/100 [04:05<03:11,  4.35s/it]"
          ]
        },
        {
          "output_type": "stream",
          "name": "stdout",
          "text": [
            "   Epoch [056/100] Train Loss: 0.4549 Val Loss: 0.4694 \n"
          ]
        },
        {
          "output_type": "stream",
          "name": "stderr",
          "text": [
            "\r 57%|█████▋    | 57/100 [04:09<03:08,  4.37s/it]"
          ]
        },
        {
          "output_type": "stream",
          "name": "stdout",
          "text": [
            "   Epoch [057/100] Train Loss: 0.4507 Val Loss: 0.4785 \n"
          ]
        },
        {
          "output_type": "stream",
          "name": "stderr",
          "text": [
            "\r 58%|█████▊    | 58/100 [04:14<03:01,  4.32s/it]"
          ]
        },
        {
          "output_type": "stream",
          "name": "stdout",
          "text": [
            "   Epoch [058/100] Train Loss: 0.4556 Val Loss: 0.4703 \n"
          ]
        },
        {
          "output_type": "stream",
          "name": "stderr",
          "text": [
            "\r 59%|█████▉    | 59/100 [04:18<02:58,  4.36s/it]"
          ]
        },
        {
          "output_type": "stream",
          "name": "stdout",
          "text": [
            "   Epoch [059/100] Train Loss: 0.4506 Val Loss: 0.4705 \n"
          ]
        },
        {
          "output_type": "stream",
          "name": "stderr",
          "text": [
            "\r 60%|██████    | 60/100 [04:22<02:55,  4.38s/it]"
          ]
        },
        {
          "output_type": "stream",
          "name": "stdout",
          "text": [
            "   Epoch [060/100] Train Loss: 0.4493 Val Loss: 0.4686 🌸\n"
          ]
        },
        {
          "output_type": "stream",
          "name": "stderr",
          "text": [
            "\r 61%|██████    | 61/100 [04:27<02:48,  4.32s/it]"
          ]
        },
        {
          "output_type": "stream",
          "name": "stdout",
          "text": [
            "   Epoch [061/100] Train Loss: 0.4454 Val Loss: 0.4710 \n"
          ]
        },
        {
          "output_type": "stream",
          "name": "stderr",
          "text": [
            "\r 62%|██████▏   | 62/100 [04:31<02:45,  4.35s/it]"
          ]
        },
        {
          "output_type": "stream",
          "name": "stdout",
          "text": [
            "   Epoch [062/100] Train Loss: 0.4474 Val Loss: 0.4687 \n"
          ]
        },
        {
          "output_type": "stream",
          "name": "stderr",
          "text": [
            "\r 63%|██████▎   | 63/100 [04:35<02:39,  4.30s/it]"
          ]
        },
        {
          "output_type": "stream",
          "name": "stdout",
          "text": [
            "   Epoch [063/100] Train Loss: 0.4478 Val Loss: 0.4696 \n"
          ]
        },
        {
          "output_type": "stream",
          "name": "stderr",
          "text": [
            "\r 64%|██████▍   | 64/100 [04:40<02:36,  4.35s/it]"
          ]
        },
        {
          "output_type": "stream",
          "name": "stdout",
          "text": [
            "   Epoch [064/100] Train Loss: 0.4457 Val Loss: 0.4697 \n"
          ]
        },
        {
          "output_type": "stream",
          "name": "stderr",
          "text": [
            "\r 65%|██████▌   | 65/100 [04:44<02:33,  4.37s/it]"
          ]
        },
        {
          "output_type": "stream",
          "name": "stdout",
          "text": [
            "   Epoch [065/100] Train Loss: 0.4720 Val Loss: 0.4724 \n"
          ]
        },
        {
          "output_type": "stream",
          "name": "stderr",
          "text": [
            "\r 66%|██████▌   | 66/100 [04:48<02:26,  4.32s/it]"
          ]
        },
        {
          "output_type": "stream",
          "name": "stdout",
          "text": [
            "   Epoch [066/100] Train Loss: 0.4480 Val Loss: 0.4696 \n"
          ]
        },
        {
          "output_type": "stream",
          "name": "stderr",
          "text": [
            "\r 67%|██████▋   | 67/100 [04:53<02:24,  4.39s/it]"
          ]
        },
        {
          "output_type": "stream",
          "name": "stdout",
          "text": [
            "   Epoch [067/100] Train Loss: 0.5689 Val Loss: 0.4710 \n"
          ]
        },
        {
          "output_type": "stream",
          "name": "stderr",
          "text": [
            "\r 68%|██████▊   | 68/100 [04:57<02:20,  4.40s/it]"
          ]
        },
        {
          "output_type": "stream",
          "name": "stdout",
          "text": [
            "   Epoch [068/100] Train Loss: 0.4482 Val Loss: 0.4681 🌸\n"
          ]
        },
        {
          "output_type": "stream",
          "name": "stderr",
          "text": [
            "\r 69%|██████▉   | 69/100 [05:01<02:14,  4.34s/it]"
          ]
        },
        {
          "output_type": "stream",
          "name": "stdout",
          "text": [
            "   Epoch [069/100] Train Loss: 0.4897 Val Loss: 0.4709 \n"
          ]
        },
        {
          "output_type": "stream",
          "name": "stderr",
          "text": [
            "\r 70%|███████   | 70/100 [05:06<02:10,  4.36s/it]"
          ]
        },
        {
          "output_type": "stream",
          "name": "stdout",
          "text": [
            "   Epoch [070/100] Train Loss: 0.4412 Val Loss: 0.4730 \n"
          ]
        },
        {
          "output_type": "stream",
          "name": "stderr",
          "text": [
            "\r 71%|███████   | 71/100 [05:10<02:05,  4.31s/it]"
          ]
        },
        {
          "output_type": "stream",
          "name": "stdout",
          "text": [
            "   Epoch [071/100] Train Loss: 0.4414 Val Loss: 0.4681 \n"
          ]
        },
        {
          "output_type": "stream",
          "name": "stderr",
          "text": [
            "\r 72%|███████▏  | 72/100 [05:14<02:01,  4.34s/it]"
          ]
        },
        {
          "output_type": "stream",
          "name": "stdout",
          "text": [
            "   Epoch [072/100] Train Loss: 0.4430 Val Loss: 0.4697 \n"
          ]
        },
        {
          "output_type": "stream",
          "name": "stderr",
          "text": [
            "\r 73%|███████▎  | 73/100 [05:19<01:58,  4.38s/it]"
          ]
        },
        {
          "output_type": "stream",
          "name": "stdout",
          "text": [
            "   Epoch [073/100] Train Loss: 0.4431 Val Loss: 0.4690 \n"
          ]
        },
        {
          "output_type": "stream",
          "name": "stderr",
          "text": [
            "\r 74%|███████▍  | 74/100 [05:23<01:52,  4.33s/it]"
          ]
        },
        {
          "output_type": "stream",
          "name": "stdout",
          "text": [
            "   Epoch [074/100] Train Loss: 0.4469 Val Loss: 0.4705 \n"
          ]
        },
        {
          "output_type": "stream",
          "name": "stderr",
          "text": [
            "\r 75%|███████▌  | 75/100 [05:28<01:49,  4.39s/it]"
          ]
        },
        {
          "output_type": "stream",
          "name": "stdout",
          "text": [
            "   Epoch [075/100] Train Loss: 0.4459 Val Loss: 0.4720 \n"
          ]
        },
        {
          "output_type": "stream",
          "name": "stderr",
          "text": [
            "\r 76%|███████▌  | 76/100 [05:32<01:44,  4.34s/it]"
          ]
        },
        {
          "output_type": "stream",
          "name": "stdout",
          "text": [
            "   Epoch [076/100] Train Loss: 0.4364 Val Loss: 0.4691 \n"
          ]
        },
        {
          "output_type": "stream",
          "name": "stderr",
          "text": [
            "\r 77%|███████▋  | 77/100 [05:36<01:40,  4.36s/it]"
          ]
        },
        {
          "output_type": "stream",
          "name": "stdout",
          "text": [
            "   Epoch [077/100] Train Loss: 0.4387 Val Loss: 0.4680 🌸\n"
          ]
        },
        {
          "output_type": "stream",
          "name": "stderr",
          "text": [
            "\r 78%|███████▊  | 78/100 [05:41<01:37,  4.42s/it]"
          ]
        },
        {
          "output_type": "stream",
          "name": "stdout",
          "text": [
            "   Epoch [078/100] Train Loss: 0.4363 Val Loss: 0.4683 \n"
          ]
        },
        {
          "output_type": "stream",
          "name": "stderr",
          "text": [
            "\r 79%|███████▉  | 79/100 [05:45<01:31,  4.36s/it]"
          ]
        },
        {
          "output_type": "stream",
          "name": "stdout",
          "text": [
            "   Epoch [079/100] Train Loss: 0.4347 Val Loss: 0.4714 \n"
          ]
        },
        {
          "output_type": "stream",
          "name": "stderr",
          "text": [
            "\r 80%|████████  | 80/100 [05:50<01:27,  4.38s/it]"
          ]
        },
        {
          "output_type": "stream",
          "name": "stdout",
          "text": [
            "   Epoch [080/100] Train Loss: 0.4379 Val Loss: 0.4687 \n"
          ]
        },
        {
          "output_type": "stream",
          "name": "stderr",
          "text": [
            "\r 81%|████████  | 81/100 [05:54<01:23,  4.40s/it]"
          ]
        },
        {
          "output_type": "stream",
          "name": "stdout",
          "text": [
            "   Epoch [081/100] Train Loss: 0.4440 Val Loss: 0.4678 🌸\n"
          ]
        },
        {
          "output_type": "stream",
          "name": "stderr",
          "text": [
            "\r 82%|████████▏ | 82/100 [05:58<01:18,  4.35s/it]"
          ]
        },
        {
          "output_type": "stream",
          "name": "stdout",
          "text": [
            "   Epoch [082/100] Train Loss: 0.4383 Val Loss: 0.4669 🌸\n"
          ]
        },
        {
          "output_type": "stream",
          "name": "stderr",
          "text": [
            "\r 83%|████████▎ | 83/100 [06:03<01:14,  4.38s/it]"
          ]
        },
        {
          "output_type": "stream",
          "name": "stdout",
          "text": [
            "   Epoch [083/100] Train Loss: 0.4366 Val Loss: 0.4693 \n"
          ]
        },
        {
          "output_type": "stream",
          "name": "stderr",
          "text": [
            "\r 84%|████████▍ | 84/100 [06:07<01:09,  4.33s/it]"
          ]
        },
        {
          "output_type": "stream",
          "name": "stdout",
          "text": [
            "   Epoch [084/100] Train Loss: 0.4325 Val Loss: 0.4668 🌸\n"
          ]
        },
        {
          "output_type": "stream",
          "name": "stderr",
          "text": [
            "\r 85%|████████▌ | 85/100 [06:11<01:05,  4.36s/it]"
          ]
        },
        {
          "output_type": "stream",
          "name": "stdout",
          "text": [
            "   Epoch [085/100] Train Loss: 0.4372 Val Loss: 0.4679 \n"
          ]
        },
        {
          "output_type": "stream",
          "name": "stderr",
          "text": [
            "\r 86%|████████▌ | 86/100 [06:16<01:01,  4.41s/it]"
          ]
        },
        {
          "output_type": "stream",
          "name": "stdout",
          "text": [
            "   Epoch [086/100] Train Loss: 0.4308 Val Loss: 0.4671 \n"
          ]
        },
        {
          "output_type": "stream",
          "name": "stderr",
          "text": [
            "\r 87%|████████▋ | 87/100 [06:20<00:56,  4.36s/it]"
          ]
        },
        {
          "output_type": "stream",
          "name": "stdout",
          "text": [
            "   Epoch [087/100] Train Loss: 0.4291 Val Loss: 0.4693 \n"
          ]
        },
        {
          "output_type": "stream",
          "name": "stderr",
          "text": [
            "\r 88%|████████▊ | 88/100 [06:25<00:52,  4.37s/it]"
          ]
        },
        {
          "output_type": "stream",
          "name": "stdout",
          "text": [
            "   Epoch [088/100] Train Loss: 0.4284 Val Loss: 0.4657 🌸\n"
          ]
        },
        {
          "output_type": "stream",
          "name": "stderr",
          "text": [
            "\r 89%|████████▉ | 89/100 [06:29<00:47,  4.34s/it]"
          ]
        },
        {
          "output_type": "stream",
          "name": "stdout",
          "text": [
            "   Epoch [089/100] Train Loss: 0.4286 Val Loss: 0.4655 🌸\n"
          ]
        },
        {
          "output_type": "stream",
          "name": "stderr",
          "text": [
            "\r 90%|█████████ | 90/100 [06:33<00:43,  4.36s/it]"
          ]
        },
        {
          "output_type": "stream",
          "name": "stdout",
          "text": [
            "   Epoch [090/100] Train Loss: 0.4270 Val Loss: 0.4651 🌸\n"
          ]
        },
        {
          "output_type": "stream",
          "name": "stderr",
          "text": [
            "\r 91%|█████████ | 91/100 [06:38<00:39,  4.38s/it]"
          ]
        },
        {
          "output_type": "stream",
          "name": "stdout",
          "text": [
            "   Epoch [091/100] Train Loss: 0.4595 Val Loss: 0.4700 \n"
          ]
        },
        {
          "output_type": "stream",
          "name": "stderr",
          "text": [
            "\r 92%|█████████▏| 92/100 [06:42<00:34,  4.33s/it]"
          ]
        },
        {
          "output_type": "stream",
          "name": "stdout",
          "text": [
            "   Epoch [092/100] Train Loss: 0.4433 Val Loss: 0.4654 \n"
          ]
        },
        {
          "output_type": "stream",
          "name": "stderr",
          "text": [
            "\r 93%|█████████▎| 93/100 [06:46<00:30,  4.36s/it]"
          ]
        },
        {
          "output_type": "stream",
          "name": "stdout",
          "text": [
            "   Epoch [093/100] Train Loss: 0.4287 Val Loss: 0.4765 \n"
          ]
        },
        {
          "output_type": "stream",
          "name": "stderr",
          "text": [
            "\r 94%|█████████▍| 94/100 [06:51<00:26,  4.37s/it]"
          ]
        },
        {
          "output_type": "stream",
          "name": "stdout",
          "text": [
            "   Epoch [094/100] Train Loss: 0.4264 Val Loss: 0.4677 \n"
          ]
        },
        {
          "output_type": "stream",
          "name": "stderr",
          "text": [
            "\r 95%|█████████▌| 95/100 [06:55<00:21,  4.33s/it]"
          ]
        },
        {
          "output_type": "stream",
          "name": "stdout",
          "text": [
            "   Epoch [095/100] Train Loss: 0.4282 Val Loss: 0.4667 \n"
          ]
        },
        {
          "output_type": "stream",
          "name": "stderr",
          "text": [
            "\r 96%|█████████▌| 96/100 [06:59<00:17,  4.35s/it]"
          ]
        },
        {
          "output_type": "stream",
          "name": "stdout",
          "text": [
            "   Epoch [096/100] Train Loss: 0.4431 Val Loss: 0.4656 \n"
          ]
        },
        {
          "output_type": "stream",
          "name": "stderr",
          "text": [
            "\r 97%|█████████▋| 97/100 [07:04<00:12,  4.32s/it]"
          ]
        },
        {
          "output_type": "stream",
          "name": "stdout",
          "text": [
            "   Epoch [097/100] Train Loss: 0.4272 Val Loss: 0.4664 \n"
          ]
        },
        {
          "output_type": "stream",
          "name": "stderr",
          "text": [
            "\r 98%|█████████▊| 98/100 [07:08<00:08,  4.36s/it]"
          ]
        },
        {
          "output_type": "stream",
          "name": "stdout",
          "text": [
            "   Epoch [098/100] Train Loss: 0.4274 Val Loss: 0.4683 \n"
          ]
        },
        {
          "output_type": "stream",
          "name": "stderr",
          "text": [
            "\r 99%|█████████▉| 99/100 [07:12<00:04,  4.31s/it]"
          ]
        },
        {
          "output_type": "stream",
          "name": "stdout",
          "text": [
            "   Epoch [099/100] Train Loss: 0.4283 Val Loss: 0.4699 \n"
          ]
        },
        {
          "output_type": "stream",
          "name": "stderr",
          "text": [
            "100%|██████████| 100/100 [07:17<00:00,  4.37s/it]"
          ]
        },
        {
          "output_type": "stream",
          "name": "stdout",
          "text": [
            "  Epoch [100/100] Train Loss: 0.4253 Val Loss: 0.4669 \n"
          ]
        },
        {
          "output_type": "stream",
          "name": "stderr",
          "text": [
            "\n"
          ]
        }
      ]
    },
    {
      "cell_type": "code",
      "source": [
        "graph_results()"
      ],
      "metadata": {
        "colab": {
          "base_uri": "https://localhost:8080/",
          "height": 405
        },
        "id": "ul2bdiRlhD9b",
        "outputId": "1415ab3a-97bf-48a5-838a-9120411e623d"
      },
      "execution_count": 75,
      "outputs": [
        {
          "output_type": "display_data",
          "data": {
            "text/plain": [
              "<Figure size 1000x600 with 1 Axes>"
            ],
            "image/png": "[encoded data removed]"
          },
          "metadata": {}
        }
      ]
    },
    {
      "cell_type": "code",
      "source": [
        "results['TabM (with categoricals)'] = train_tabm(use_categoricals=True)"
      ],
      "metadata": {
        "colab": {
          "base_uri": "https://localhost:8080/"
        },
        "id": "tF09VB89b-y5",
        "outputId": "68973846-fae6-40c6-bdb4-ff229143e3d2"
      },
      "execution_count": 76,
      "outputs": [
        {
          "output_type": "stream",
          "name": "stderr",
          "text": [
            "  1%|          | 1/100 [00:04<07:38,  4.63s/it]"
          ]
        },
        {
          "output_type": "stream",
          "name": "stdout",
          "text": [
            "    Epoch [001/100] Train Loss: 0.7632 Val Loss: 0.4505 🌸\n"
          ]
        },
        {
          "output_type": "stream",
          "name": "stderr",
          "text": [
            "\r  2%|▏         | 2/100 [00:09<07:19,  4.48s/it]"
          ]
        },
        {
          "output_type": "stream",
          "name": "stdout",
          "text": [
            "    Epoch [002/100] Train Loss: 0.4508 Val Loss: 0.4127 🌸\n"
          ]
        },
        {
          "output_type": "stream",
          "name": "stderr",
          "text": [
            "\r  3%|▎         | 3/100 [00:13<07:20,  4.55s/it]"
          ]
        },
        {
          "output_type": "stream",
          "name": "stdout",
          "text": [
            "    Epoch [003/100] Train Loss: 0.4573 Val Loss: 0.3989 🌸\n"
          ]
        },
        {
          "output_type": "stream",
          "name": "stderr",
          "text": [
            "\r  4%|▍         | 4/100 [00:18<07:18,  4.57s/it]"
          ]
        },
        {
          "output_type": "stream",
          "name": "stdout",
          "text": [
            "    Epoch [004/100] Train Loss: 0.4120 Val Loss: 0.3995 \n"
          ]
        },
        {
          "output_type": "stream",
          "name": "stderr",
          "text": [
            "\r  5%|▌         | 5/100 [00:22<07:07,  4.50s/it]"
          ]
        },
        {
          "output_type": "stream",
          "name": "stdout",
          "text": [
            "    Epoch [005/100] Train Loss: 0.4943 Val Loss: 0.4050 \n"
          ]
        },
        {
          "output_type": "stream",
          "name": "stderr",
          "text": [
            "\r  6%|▌         | 6/100 [00:27<07:07,  4.55s/it]"
          ]
        },
        {
          "output_type": "stream",
          "name": "stdout",
          "text": [
            "    Epoch [006/100] Train Loss: 0.3950 Val Loss: 0.4072 \n"
          ]
        },
        {
          "output_type": "stream",
          "name": "stderr",
          "text": [
            "\r  7%|▋         | 7/100 [00:31<06:57,  4.49s/it]"
          ]
        },
        {
          "output_type": "stream",
          "name": "stdout",
          "text": [
            "    Epoch [007/100] Train Loss: 0.3864 Val Loss: 0.3720 🌸\n"
          ]
        },
        {
          "output_type": "stream",
          "name": "stderr",
          "text": [
            "\r  8%|▊         | 8/100 [00:36<06:58,  4.54s/it]"
          ]
        },
        {
          "output_type": "stream",
          "name": "stdout",
          "text": [
            "    Epoch [008/100] Train Loss: 0.3778 Val Loss: 0.3750 \n"
          ]
        },
        {
          "output_type": "stream",
          "name": "stderr",
          "text": [
            "\r  9%|▉         | 9/100 [00:40<06:55,  4.57s/it]"
          ]
        },
        {
          "output_type": "stream",
          "name": "stdout",
          "text": [
            "    Epoch [009/100] Train Loss: 0.3718 Val Loss: 0.3621 🌸\n"
          ]
        },
        {
          "output_type": "stream",
          "name": "stderr",
          "text": [
            "\r 10%|█         | 10/100 [00:45<06:45,  4.51s/it]"
          ]
        },
        {
          "output_type": "stream",
          "name": "stdout",
          "text": [
            "   Epoch [010/100] Train Loss: 0.3648 Val Loss: 0.3742 \n"
          ]
        },
        {
          "output_type": "stream",
          "name": "stderr",
          "text": [
            "\r 11%|█         | 11/100 [00:49<06:45,  4.56s/it]"
          ]
        },
        {
          "output_type": "stream",
          "name": "stdout",
          "text": [
            "   Epoch [011/100] Train Loss: 0.3601 Val Loss: 0.3656 \n"
          ]
        },
        {
          "output_type": "stream",
          "name": "stderr",
          "text": [
            "\r 12%|█▏        | 12/100 [00:54<06:41,  4.57s/it]"
          ]
        },
        {
          "output_type": "stream",
          "name": "stdout",
          "text": [
            "   Epoch [012/100] Train Loss: 0.3568 Val Loss: 0.3560 🌸\n"
          ]
        },
        {
          "output_type": "stream",
          "name": "stderr",
          "text": [
            "\r 13%|█▎        | 13/100 [00:58<06:32,  4.52s/it]"
          ]
        },
        {
          "output_type": "stream",
          "name": "stdout",
          "text": [
            "   Epoch [013/100] Train Loss: 0.3542 Val Loss: 0.3554 🌸\n"
          ]
        },
        {
          "output_type": "stream",
          "name": "stderr",
          "text": [
            "\r 14%|█▍        | 14/100 [01:03<06:30,  4.54s/it]"
          ]
        },
        {
          "output_type": "stream",
          "name": "stdout",
          "text": [
            "   Epoch [014/100] Train Loss: 0.3522 Val Loss: 0.3516 🌸\n"
          ]
        },
        {
          "output_type": "stream",
          "name": "stderr",
          "text": [
            "\r 15%|█▌        | 15/100 [01:08<06:27,  4.55s/it]"
          ]
        },
        {
          "output_type": "stream",
          "name": "stdout",
          "text": [
            "   Epoch [015/100] Train Loss: 0.3503 Val Loss: 0.3735 \n"
          ]
        },
        {
          "output_type": "stream",
          "name": "stderr",
          "text": [
            "\r 16%|█▌        | 16/100 [01:12<06:19,  4.52s/it]"
          ]
        },
        {
          "output_type": "stream",
          "name": "stdout",
          "text": [
            "   Epoch [016/100] Train Loss: 0.3505 Val Loss: 0.3579 \n"
          ]
        },
        {
          "output_type": "stream",
          "name": "stderr",
          "text": [
            "\r 17%|█▋        | 17/100 [01:17<06:16,  4.54s/it]"
          ]
        },
        {
          "output_type": "stream",
          "name": "stdout",
          "text": [
            "   Epoch [017/100] Train Loss: 0.3464 Val Loss: 0.3535 \n"
          ]
        },
        {
          "output_type": "stream",
          "name": "stderr",
          "text": [
            "\r 18%|█▊        | 18/100 [01:21<06:07,  4.48s/it]"
          ]
        },
        {
          "output_type": "stream",
          "name": "stdout",
          "text": [
            "   Epoch [018/100] Train Loss: 0.3446 Val Loss: 0.3547 \n"
          ]
        },
        {
          "output_type": "stream",
          "name": "stderr",
          "text": [
            "\r 19%|█▉        | 19/100 [01:26<06:05,  4.52s/it]"
          ]
        },
        {
          "output_type": "stream",
          "name": "stdout",
          "text": [
            "   Epoch [019/100] Train Loss: 0.3436 Val Loss: 0.3484 🌸\n"
          ]
        },
        {
          "output_type": "stream",
          "name": "stderr",
          "text": [
            "\r 20%|██        | 20/100 [01:30<05:57,  4.47s/it]"
          ]
        },
        {
          "output_type": "stream",
          "name": "stdout",
          "text": [
            "   Epoch [020/100] Train Loss: 0.3426 Val Loss: 0.3488 \n"
          ]
        },
        {
          "output_type": "stream",
          "name": "stderr",
          "text": [
            "\r 21%|██        | 21/100 [01:34<05:54,  4.49s/it]"
          ]
        },
        {
          "output_type": "stream",
          "name": "stdout",
          "text": [
            "   Epoch [021/100] Train Loss: 0.3382 Val Loss: 0.3468 🌸\n"
          ]
        },
        {
          "output_type": "stream",
          "name": "stderr",
          "text": [
            "\r 22%|██▏       | 22/100 [01:39<05:53,  4.53s/it]"
          ]
        },
        {
          "output_type": "stream",
          "name": "stdout",
          "text": [
            "   Epoch [022/100] Train Loss: 0.3374 Val Loss: 0.3473 \n"
          ]
        },
        {
          "output_type": "stream",
          "name": "stderr",
          "text": [
            "\r 23%|██▎       | 23/100 [01:43<05:44,  4.47s/it]"
          ]
        },
        {
          "output_type": "stream",
          "name": "stdout",
          "text": [
            "   Epoch [023/100] Train Loss: 0.3370 Val Loss: 0.3468 \n"
          ]
        },
        {
          "output_type": "stream",
          "name": "stderr",
          "text": [
            "\r 24%|██▍       | 24/100 [01:48<05:45,  4.54s/it]"
          ]
        },
        {
          "output_type": "stream",
          "name": "stdout",
          "text": [
            "   Epoch [024/100] Train Loss: 0.3344 Val Loss: 0.3462 🌸\n"
          ]
        },
        {
          "output_type": "stream",
          "name": "stderr",
          "text": [
            "\r 25%|██▌       | 25/100 [01:53<05:41,  4.55s/it]"
          ]
        },
        {
          "output_type": "stream",
          "name": "stdout",
          "text": [
            "   Epoch [025/100] Train Loss: 0.3334 Val Loss: 0.3459 🌸\n"
          ]
        },
        {
          "output_type": "stream",
          "name": "stderr",
          "text": [
            "\r 26%|██▌       | 26/100 [01:57<05:32,  4.49s/it]"
          ]
        },
        {
          "output_type": "stream",
          "name": "stdout",
          "text": [
            "   Epoch [026/100] Train Loss: 0.3319 Val Loss: 0.3459 \n"
          ]
        },
        {
          "output_type": "stream",
          "name": "stderr",
          "text": [
            "\r 27%|██▋       | 27/100 [02:02<05:30,  4.53s/it]"
          ]
        },
        {
          "output_type": "stream",
          "name": "stdout",
          "text": [
            "   Epoch [027/100] Train Loss: 0.3308 Val Loss: 0.3436 🌸\n"
          ]
        },
        {
          "output_type": "stream",
          "name": "stderr",
          "text": [
            "\r 28%|██▊       | 28/100 [02:06<05:22,  4.48s/it]"
          ]
        },
        {
          "output_type": "stream",
          "name": "stdout",
          "text": [
            "   Epoch [028/100] Train Loss: 0.3298 Val Loss: 0.3416 🌸\n"
          ]
        },
        {
          "output_type": "stream",
          "name": "stderr",
          "text": [
            "\r 29%|██▉       | 29/100 [02:11<05:20,  4.52s/it]"
          ]
        },
        {
          "output_type": "stream",
          "name": "stdout",
          "text": [
            "   Epoch [029/100] Train Loss: 0.3340 Val Loss: 0.3461 \n"
          ]
        },
        {
          "output_type": "stream",
          "name": "stderr",
          "text": [
            "\r 30%|███       | 30/100 [02:15<05:18,  4.55s/it]"
          ]
        },
        {
          "output_type": "stream",
          "name": "stdout",
          "text": [
            "   Epoch [030/100] Train Loss: 0.3268 Val Loss: 0.3424 \n"
          ]
        },
        {
          "output_type": "stream",
          "name": "stderr",
          "text": [
            "\r 31%|███       | 31/100 [02:20<05:09,  4.49s/it]"
          ]
        },
        {
          "output_type": "stream",
          "name": "stdout",
          "text": [
            "   Epoch [031/100] Train Loss: 0.3248 Val Loss: 0.3446 \n"
          ]
        },
        {
          "output_type": "stream",
          "name": "stderr",
          "text": [
            "\r 32%|███▏      | 32/100 [02:24<05:10,  4.56s/it]"
          ]
        },
        {
          "output_type": "stream",
          "name": "stdout",
          "text": [
            "   Epoch [032/100] Train Loss: 0.3253 Val Loss: 0.3402 🌸\n"
          ]
        },
        {
          "output_type": "stream",
          "name": "stderr",
          "text": [
            "\r 33%|███▎      | 33/100 [02:29<05:02,  4.51s/it]"
          ]
        },
        {
          "output_type": "stream",
          "name": "stdout",
          "text": [
            "   Epoch [033/100] Train Loss: 0.3228 Val Loss: 0.3398 🌸\n"
          ]
        },
        {
          "output_type": "stream",
          "name": "stderr",
          "text": [
            "\r 34%|███▍      | 34/100 [02:33<05:00,  4.55s/it]"
          ]
        },
        {
          "output_type": "stream",
          "name": "stdout",
          "text": [
            "   Epoch [034/100] Train Loss: 0.3220 Val Loss: 0.4207 \n"
          ]
        },
        {
          "output_type": "stream",
          "name": "stderr",
          "text": [
            "\r 35%|███▌      | 35/100 [02:38<04:52,  4.50s/it]"
          ]
        },
        {
          "output_type": "stream",
          "name": "stdout",
          "text": [
            "   Epoch [035/100] Train Loss: 0.3222 Val Loss: 0.3428 \n"
          ]
        },
        {
          "output_type": "stream",
          "name": "stderr",
          "text": [
            "\r 36%|███▌      | 36/100 [02:42<04:49,  4.53s/it]"
          ]
        },
        {
          "output_type": "stream",
          "name": "stdout",
          "text": [
            "   Epoch [036/100] Train Loss: 0.3217 Val Loss: 0.3414 \n"
          ]
        },
        {
          "output_type": "stream",
          "name": "stderr",
          "text": [
            "\r 37%|███▋      | 37/100 [02:47<04:47,  4.56s/it]"
          ]
        },
        {
          "output_type": "stream",
          "name": "stdout",
          "text": [
            "   Epoch [037/100] Train Loss: 0.3183 Val Loss: 0.3410 \n"
          ]
        },
        {
          "output_type": "stream",
          "name": "stderr",
          "text": [
            "\r 38%|███▊      | 38/100 [02:51<04:39,  4.52s/it]"
          ]
        },
        {
          "output_type": "stream",
          "name": "stdout",
          "text": [
            "   Epoch [038/100] Train Loss: 0.3181 Val Loss: 0.3369 🌸\n"
          ]
        },
        {
          "output_type": "stream",
          "name": "stderr",
          "text": [
            "\r 39%|███▉      | 39/100 [02:56<04:36,  4.54s/it]"
          ]
        },
        {
          "output_type": "stream",
          "name": "stdout",
          "text": [
            "   Epoch [039/100] Train Loss: 0.3175 Val Loss: 0.3371 \n"
          ]
        },
        {
          "output_type": "stream",
          "name": "stderr",
          "text": [
            "\r 40%|████      | 40/100 [03:01<04:36,  4.60s/it]"
          ]
        },
        {
          "output_type": "stream",
          "name": "stdout",
          "text": [
            "   Epoch [040/100] Train Loss: 0.3197 Val Loss: 0.3353 🌸\n"
          ]
        },
        {
          "output_type": "stream",
          "name": "stderr",
          "text": [
            "\r 41%|████      | 41/100 [03:05<04:27,  4.53s/it]"
          ]
        },
        {
          "output_type": "stream",
          "name": "stdout",
          "text": [
            "   Epoch [041/100] Train Loss: 0.3166 Val Loss: 0.3400 \n"
          ]
        },
        {
          "output_type": "stream",
          "name": "stderr",
          "text": [
            "\r 42%|████▏     | 42/100 [03:10<04:24,  4.56s/it]"
          ]
        },
        {
          "output_type": "stream",
          "name": "stdout",
          "text": [
            "   Epoch [042/100] Train Loss: 0.3145 Val Loss: 0.3373 \n"
          ]
        },
        {
          "output_type": "stream",
          "name": "stderr",
          "text": [
            "\r 43%|████▎     | 43/100 [03:14<04:16,  4.51s/it]"
          ]
        },
        {
          "output_type": "stream",
          "name": "stdout",
          "text": [
            "   Epoch [043/100] Train Loss: 0.3126 Val Loss: 0.3358 \n"
          ]
        },
        {
          "output_type": "stream",
          "name": "stderr",
          "text": [
            "\r 44%|████▍     | 44/100 [03:19<04:13,  4.53s/it]"
          ]
        },
        {
          "output_type": "stream",
          "name": "stdout",
          "text": [
            "   Epoch [044/100] Train Loss: 0.3098 Val Loss: 0.3357 \n"
          ]
        },
        {
          "output_type": "stream",
          "name": "stderr",
          "text": [
            "\r 45%|████▌     | 45/100 [03:23<04:11,  4.57s/it]"
          ]
        },
        {
          "output_type": "stream",
          "name": "stdout",
          "text": [
            "   Epoch [045/100] Train Loss: 0.3086 Val Loss: 0.3435 \n"
          ]
        },
        {
          "output_type": "stream",
          "name": "stderr",
          "text": [
            "\r 46%|████▌     | 46/100 [03:28<04:03,  4.52s/it]"
          ]
        },
        {
          "output_type": "stream",
          "name": "stdout",
          "text": [
            "   Epoch [046/100] Train Loss: 0.3094 Val Loss: 0.3367 \n"
          ]
        },
        {
          "output_type": "stream",
          "name": "stderr",
          "text": [
            "\r 47%|████▋     | 47/100 [03:32<04:00,  4.54s/it]"
          ]
        },
        {
          "output_type": "stream",
          "name": "stdout",
          "text": [
            "   Epoch [047/100] Train Loss: 0.3075 Val Loss: 0.3362 \n"
          ]
        },
        {
          "output_type": "stream",
          "name": "stderr",
          "text": [
            "\r 48%|████▊     | 48/100 [03:37<03:54,  4.51s/it]"
          ]
        },
        {
          "output_type": "stream",
          "name": "stdout",
          "text": [
            "   Epoch [048/100] Train Loss: 0.3057 Val Loss: 0.3382 \n"
          ]
        },
        {
          "output_type": "stream",
          "name": "stderr",
          "text": [
            "\r 49%|████▉     | 49/100 [03:41<03:51,  4.54s/it]"
          ]
        },
        {
          "output_type": "stream",
          "name": "stdout",
          "text": [
            "   Epoch [049/100] Train Loss: 0.3054 Val Loss: 0.3376 \n"
          ]
        },
        {
          "output_type": "stream",
          "name": "stderr",
          "text": [
            "\r 50%|█████     | 50/100 [03:46<03:47,  4.55s/it]"
          ]
        },
        {
          "output_type": "stream",
          "name": "stdout",
          "text": [
            "   Epoch [050/100] Train Loss: 0.3046 Val Loss: 0.3343 🌸\n"
          ]
        },
        {
          "output_type": "stream",
          "name": "stderr",
          "text": [
            "\r 51%|█████     | 51/100 [03:50<03:40,  4.50s/it]"
          ]
        },
        {
          "output_type": "stream",
          "name": "stdout",
          "text": [
            "   Epoch [051/100] Train Loss: 0.3026 Val Loss: 0.3322 🌸\n"
          ]
        },
        {
          "output_type": "stream",
          "name": "stderr",
          "text": [
            "\r 52%|█████▏    | 52/100 [03:55<03:37,  4.52s/it]"
          ]
        },
        {
          "output_type": "stream",
          "name": "stdout",
          "text": [
            "   Epoch [052/100] Train Loss: 0.3022 Val Loss: 0.3334 \n"
          ]
        },
        {
          "output_type": "stream",
          "name": "stderr",
          "text": [
            "\r 53%|█████▎    | 53/100 [03:59<03:30,  4.48s/it]"
          ]
        },
        {
          "output_type": "stream",
          "name": "stdout",
          "text": [
            "   Epoch [053/100] Train Loss: 0.3062 Val Loss: 0.3333 \n"
          ]
        },
        {
          "output_type": "stream",
          "name": "stderr",
          "text": [
            "\r 54%|█████▍    | 54/100 [04:04<03:27,  4.52s/it]"
          ]
        },
        {
          "output_type": "stream",
          "name": "stdout",
          "text": [
            "   Epoch [054/100] Train Loss: 0.3106 Val Loss: 0.3352 \n"
          ]
        },
        {
          "output_type": "stream",
          "name": "stderr",
          "text": [
            "\r 55%|█████▌    | 55/100 [04:08<03:21,  4.47s/it]"
          ]
        },
        {
          "output_type": "stream",
          "name": "stdout",
          "text": [
            "   Epoch [055/100] Train Loss: 0.3045 Val Loss: 0.3320 🌸\n"
          ]
        },
        {
          "output_type": "stream",
          "name": "stderr",
          "text": [
            "\r 56%|█████▌    | 56/100 [04:13<03:19,  4.53s/it]"
          ]
        },
        {
          "output_type": "stream",
          "name": "stdout",
          "text": [
            "   Epoch [056/100] Train Loss: 0.3025 Val Loss: 0.3319 🌸\n"
          ]
        },
        {
          "output_type": "stream",
          "name": "stderr",
          "text": [
            "\r 57%|█████▋    | 57/100 [04:18<03:15,  4.55s/it]"
          ]
        },
        {
          "output_type": "stream",
          "name": "stdout",
          "text": [
            "   Epoch [057/100] Train Loss: 0.3014 Val Loss: 0.3320 \n"
          ]
        },
        {
          "output_type": "stream",
          "name": "stderr",
          "text": [
            "\r 58%|█████▊    | 58/100 [04:22<03:08,  4.49s/it]"
          ]
        },
        {
          "output_type": "stream",
          "name": "stdout",
          "text": [
            "   Epoch [058/100] Train Loss: 0.2965 Val Loss: 0.3338 \n"
          ]
        },
        {
          "output_type": "stream",
          "name": "stderr",
          "text": [
            "\r 59%|█████▉    | 59/100 [04:27<03:05,  4.53s/it]"
          ]
        },
        {
          "output_type": "stream",
          "name": "stdout",
          "text": [
            "   Epoch [059/100] Train Loss: 0.2974 Val Loss: 0.3323 \n"
          ]
        },
        {
          "output_type": "stream",
          "name": "stderr",
          "text": [
            "\r 60%|██████    | 60/100 [04:31<03:01,  4.54s/it]"
          ]
        },
        {
          "output_type": "stream",
          "name": "stdout",
          "text": [
            "   Epoch [060/100] Train Loss: 0.2955 Val Loss: 0.3318 🌸\n"
          ]
        },
        {
          "output_type": "stream",
          "name": "stderr",
          "text": [
            "\r 61%|██████    | 61/100 [04:36<02:55,  4.50s/it]"
          ]
        },
        {
          "output_type": "stream",
          "name": "stdout",
          "text": [
            "   Epoch [061/100] Train Loss: 0.2960 Val Loss: 0.3306 🌸\n"
          ]
        },
        {
          "output_type": "stream",
          "name": "stderr",
          "text": [
            "\r 62%|██████▏   | 62/100 [04:40<02:52,  4.53s/it]"
          ]
        },
        {
          "output_type": "stream",
          "name": "stdout",
          "text": [
            "   Epoch [062/100] Train Loss: 0.2941 Val Loss: 0.3391 \n"
          ]
        },
        {
          "output_type": "stream",
          "name": "stderr",
          "text": [
            "\r 63%|██████▎   | 63/100 [04:44<02:45,  4.48s/it]"
          ]
        },
        {
          "output_type": "stream",
          "name": "stdout",
          "text": [
            "   Epoch [063/100] Train Loss: 0.2932 Val Loss: 0.3312 \n"
          ]
        },
        {
          "output_type": "stream",
          "name": "stderr",
          "text": [
            "\r 64%|██████▍   | 64/100 [04:49<02:43,  4.55s/it]"
          ]
        },
        {
          "output_type": "stream",
          "name": "stdout",
          "text": [
            "   Epoch [064/100] Train Loss: 0.2919 Val Loss: 0.3305 🌸\n"
          ]
        },
        {
          "output_type": "stream",
          "name": "stderr",
          "text": [
            "\r 65%|██████▌   | 65/100 [04:54<02:39,  4.56s/it]"
          ]
        },
        {
          "output_type": "stream",
          "name": "stdout",
          "text": [
            "   Epoch [065/100] Train Loss: 0.2919 Val Loss: 0.3328 \n"
          ]
        },
        {
          "output_type": "stream",
          "name": "stderr",
          "text": [
            "\r 66%|██████▌   | 66/100 [04:58<02:32,  4.50s/it]"
          ]
        },
        {
          "output_type": "stream",
          "name": "stdout",
          "text": [
            "   Epoch [066/100] Train Loss: 0.2911 Val Loss: 0.3298 🌸\n"
          ]
        },
        {
          "output_type": "stream",
          "name": "stderr",
          "text": [
            "\r 67%|██████▋   | 67/100 [05:03<02:29,  4.53s/it]"
          ]
        },
        {
          "output_type": "stream",
          "name": "stdout",
          "text": [
            "   Epoch [067/100] Train Loss: 0.3041 Val Loss: 0.3316 \n"
          ]
        },
        {
          "output_type": "stream",
          "name": "stderr",
          "text": [
            "\r 68%|██████▊   | 68/100 [05:07<02:23,  4.48s/it]"
          ]
        },
        {
          "output_type": "stream",
          "name": "stdout",
          "text": [
            "   Epoch [068/100] Train Loss: 0.3089 Val Loss: 0.3310 \n"
          ]
        },
        {
          "output_type": "stream",
          "name": "stderr",
          "text": [
            "\r 69%|██████▉   | 69/100 [05:12<02:20,  4.52s/it]"
          ]
        },
        {
          "output_type": "stream",
          "name": "stdout",
          "text": [
            "   Epoch [069/100] Train Loss: 0.3334 Val Loss: 0.3456 \n"
          ]
        },
        {
          "output_type": "stream",
          "name": "stderr",
          "text": [
            "\r 70%|███████   | 70/100 [05:16<02:16,  4.55s/it]"
          ]
        },
        {
          "output_type": "stream",
          "name": "stdout",
          "text": [
            "   Epoch [070/100] Train Loss: 0.3394 Val Loss: 0.3325 \n"
          ]
        },
        {
          "output_type": "stream",
          "name": "stderr",
          "text": [
            "\r 71%|███████   | 71/100 [05:21<02:10,  4.49s/it]"
          ]
        },
        {
          "output_type": "stream",
          "name": "stdout",
          "text": [
            "   Epoch [071/100] Train Loss: 0.4688 Val Loss: 0.3345 \n"
          ]
        },
        {
          "output_type": "stream",
          "name": "stderr",
          "text": [
            "\r 72%|███████▏  | 72/100 [05:25<02:07,  4.57s/it]"
          ]
        },
        {
          "output_type": "stream",
          "name": "stdout",
          "text": [
            "   Epoch [072/100] Train Loss: 0.3591 Val Loss: 0.3294 🌸\n"
          ]
        },
        {
          "output_type": "stream",
          "name": "stderr",
          "text": [
            "\r 73%|███████▎  | 73/100 [05:30<02:01,  4.50s/it]"
          ]
        },
        {
          "output_type": "stream",
          "name": "stdout",
          "text": [
            "   Epoch [073/100] Train Loss: 0.3311 Val Loss: 0.3299 \n"
          ]
        },
        {
          "output_type": "stream",
          "name": "stderr",
          "text": [
            "\r 74%|███████▍  | 74/100 [05:34<01:57,  4.53s/it]"
          ]
        },
        {
          "output_type": "stream",
          "name": "stdout",
          "text": [
            "   Epoch [074/100] Train Loss: 0.4172 Val Loss: 0.3285 🌸\n"
          ]
        },
        {
          "output_type": "stream",
          "name": "stderr",
          "text": [
            "\r 75%|███████▌  | 75/100 [05:39<01:53,  4.55s/it]"
          ]
        },
        {
          "output_type": "stream",
          "name": "stdout",
          "text": [
            "   Epoch [075/100] Train Loss: 0.7704 Val Loss: 0.3281 🌸\n"
          ]
        },
        {
          "output_type": "stream",
          "name": "stderr",
          "text": [
            "\r 76%|███████▌  | 76/100 [05:43<01:47,  4.49s/it]"
          ]
        },
        {
          "output_type": "stream",
          "name": "stdout",
          "text": [
            "   Epoch [076/100] Train Loss: 1.2039 Val Loss: 0.3287 \n"
          ]
        },
        {
          "output_type": "stream",
          "name": "stderr",
          "text": [
            "\r 77%|███████▋  | 77/100 [05:48<01:44,  4.53s/it]"
          ]
        },
        {
          "output_type": "stream",
          "name": "stdout",
          "text": [
            "   Epoch [077/100] Train Loss: 0.3498 Val Loss: 0.3290 \n"
          ]
        },
        {
          "output_type": "stream",
          "name": "stderr",
          "text": [
            "\r 78%|███████▊  | 78/100 [05:53<01:40,  4.55s/it]"
          ]
        },
        {
          "output_type": "stream",
          "name": "stdout",
          "text": [
            "   Epoch [078/100] Train Loss: 0.2904 Val Loss: 0.3290 \n"
          ]
        },
        {
          "output_type": "stream",
          "name": "stderr",
          "text": [
            "\r 79%|███████▉  | 79/100 [05:57<01:34,  4.50s/it]"
          ]
        },
        {
          "output_type": "stream",
          "name": "stdout",
          "text": [
            "   Epoch [079/100] Train Loss: 0.2883 Val Loss: 0.3319 \n"
          ]
        },
        {
          "output_type": "stream",
          "name": "stderr",
          "text": [
            "\r 80%|████████  | 80/100 [06:02<01:31,  4.58s/it]"
          ]
        },
        {
          "output_type": "stream",
          "name": "stdout",
          "text": [
            "   Epoch [080/100] Train Loss: 0.2880 Val Loss: 0.3290 \n"
          ]
        },
        {
          "output_type": "stream",
          "name": "stderr",
          "text": [
            "\r 81%|████████  | 81/100 [06:06<01:25,  4.52s/it]"
          ]
        },
        {
          "output_type": "stream",
          "name": "stdout",
          "text": [
            "   Epoch [081/100] Train Loss: 0.2858 Val Loss: 0.3312 \n"
          ]
        },
        {
          "output_type": "stream",
          "name": "stderr",
          "text": [
            "\r 82%|████████▏ | 82/100 [06:11<01:21,  4.54s/it]"
          ]
        },
        {
          "output_type": "stream",
          "name": "stdout",
          "text": [
            "   Epoch [082/100] Train Loss: 0.2861 Val Loss: 0.3287 \n"
          ]
        },
        {
          "output_type": "stream",
          "name": "stderr",
          "text": [
            "\r 83%|████████▎ | 83/100 [06:15<01:17,  4.57s/it]"
          ]
        },
        {
          "output_type": "stream",
          "name": "stdout",
          "text": [
            "   Epoch [083/100] Train Loss: 0.2844 Val Loss: 0.3277 🌸\n"
          ]
        },
        {
          "output_type": "stream",
          "name": "stderr",
          "text": [
            "\r 84%|████████▍ | 84/100 [06:20<01:12,  4.51s/it]"
          ]
        },
        {
          "output_type": "stream",
          "name": "stdout",
          "text": [
            "   Epoch [084/100] Train Loss: 0.2835 Val Loss: 0.3273 🌸\n"
          ]
        },
        {
          "output_type": "stream",
          "name": "stderr",
          "text": [
            "\r 85%|████████▌ | 85/100 [06:24<01:08,  4.57s/it]"
          ]
        },
        {
          "output_type": "stream",
          "name": "stdout",
          "text": [
            "   Epoch [085/100] Train Loss: 0.2835 Val Loss: 0.3277 \n"
          ]
        },
        {
          "output_type": "stream",
          "name": "stderr",
          "text": [
            "\r 86%|████████▌ | 86/100 [06:29<01:04,  4.58s/it]"
          ]
        },
        {
          "output_type": "stream",
          "name": "stdout",
          "text": [
            "   Epoch [086/100] Train Loss: 0.2831 Val Loss: 0.3280 \n"
          ]
        },
        {
          "output_type": "stream",
          "name": "stderr",
          "text": [
            "\r 87%|████████▋ | 87/100 [06:33<00:58,  4.51s/it]"
          ]
        },
        {
          "output_type": "stream",
          "name": "stdout",
          "text": [
            "   Epoch [087/100] Train Loss: 0.2829 Val Loss: 0.3267 🌸\n"
          ]
        },
        {
          "output_type": "stream",
          "name": "stderr",
          "text": [
            "\r 88%|████████▊ | 88/100 [06:38<00:54,  4.58s/it]"
          ]
        },
        {
          "output_type": "stream",
          "name": "stdout",
          "text": [
            "   Epoch [088/100] Train Loss: 0.2820 Val Loss: 0.3276 \n"
          ]
        },
        {
          "output_type": "stream",
          "name": "stderr",
          "text": [
            "\r 89%|████████▉ | 89/100 [06:42<00:49,  4.51s/it]"
          ]
        },
        {
          "output_type": "stream",
          "name": "stdout",
          "text": [
            "   Epoch [089/100] Train Loss: 0.2822 Val Loss: 0.3277 \n"
          ]
        },
        {
          "output_type": "stream",
          "name": "stderr",
          "text": [
            "\r 90%|█████████ | 90/100 [06:47<00:45,  4.53s/it]"
          ]
        },
        {
          "output_type": "stream",
          "name": "stdout",
          "text": [
            "   Epoch [090/100] Train Loss: 0.2809 Val Loss: 0.3273 \n"
          ]
        },
        {
          "output_type": "stream",
          "name": "stderr",
          "text": [
            "\r 91%|█████████ | 91/100 [06:52<00:41,  4.56s/it]"
          ]
        },
        {
          "output_type": "stream",
          "name": "stdout",
          "text": [
            "   Epoch [091/100] Train Loss: 0.2811 Val Loss: 0.3267 \n"
          ]
        },
        {
          "output_type": "stream",
          "name": "stderr",
          "text": [
            "\r 92%|█████████▏| 92/100 [06:56<00:35,  4.50s/it]"
          ]
        },
        {
          "output_type": "stream",
          "name": "stdout",
          "text": [
            "   Epoch [092/100] Train Loss: 0.2822 Val Loss: 0.3263 🌸\n"
          ]
        },
        {
          "output_type": "stream",
          "name": "stderr",
          "text": [
            "\r 93%|█████████▎| 93/100 [07:01<00:31,  4.56s/it]"
          ]
        },
        {
          "output_type": "stream",
          "name": "stdout",
          "text": [
            "   Epoch [093/100] Train Loss: 0.2801 Val Loss: 0.3261 🌸\n"
          ]
        },
        {
          "output_type": "stream",
          "name": "stderr",
          "text": [
            "\r 94%|█████████▍| 94/100 [07:05<00:27,  4.51s/it]"
          ]
        },
        {
          "output_type": "stream",
          "name": "stdout",
          "text": [
            "   Epoch [094/100] Train Loss: 0.2791 Val Loss: 0.3267 \n"
          ]
        },
        {
          "output_type": "stream",
          "name": "stderr",
          "text": [
            "\r 95%|█████████▌| 95/100 [07:10<00:22,  4.53s/it]"
          ]
        },
        {
          "output_type": "stream",
          "name": "stdout",
          "text": [
            "   Epoch [095/100] Train Loss: 0.2790 Val Loss: 0.3268 \n"
          ]
        },
        {
          "output_type": "stream",
          "name": "stderr",
          "text": [
            "\r 96%|█████████▌| 96/100 [07:14<00:18,  4.58s/it]"
          ]
        },
        {
          "output_type": "stream",
          "name": "stdout",
          "text": [
            "   Epoch [096/100] Train Loss: 0.2808 Val Loss: 0.3277 \n"
          ]
        },
        {
          "output_type": "stream",
          "name": "stderr",
          "text": [
            "\r 97%|█████████▋| 97/100 [07:19<00:13,  4.51s/it]"
          ]
        },
        {
          "output_type": "stream",
          "name": "stdout",
          "text": [
            "   Epoch [097/100] Train Loss: 0.2796 Val Loss: 0.3273 \n"
          ]
        },
        {
          "output_type": "stream",
          "name": "stderr",
          "text": [
            "\r 98%|█████████▊| 98/100 [07:23<00:09,  4.53s/it]"
          ]
        },
        {
          "output_type": "stream",
          "name": "stdout",
          "text": [
            "   Epoch [098/100] Train Loss: 0.2775 Val Loss: 0.3276 \n"
          ]
        },
        {
          "output_type": "stream",
          "name": "stderr",
          "text": [
            "\r 99%|█████████▉| 99/100 [07:28<00:04,  4.49s/it]"
          ]
        },
        {
          "output_type": "stream",
          "name": "stdout",
          "text": [
            "   Epoch [099/100] Train Loss: 0.2776 Val Loss: 0.3264 \n"
          ]
        },
        {
          "output_type": "stream",
          "name": "stderr",
          "text": [
            "100%|██████████| 100/100 [07:32<00:00,  4.53s/it]"
          ]
        },
        {
          "output_type": "stream",
          "name": "stdout",
          "text": [
            "  Epoch [100/100] Train Loss: 0.2811 Val Loss: 0.3258 🌸\n"
          ]
        },
        {
          "output_type": "stream",
          "name": "stderr",
          "text": [
            "\n"
          ]
        }
      ]
    },
    {
      "cell_type": "code",
      "source": [
        "graph_results()"
      ],
      "metadata": {
        "colab": {
          "base_uri": "https://localhost:8080/",
          "height": 407
        },
        "id": "o5nb0lRn5lVK",
        "outputId": "7567670e-558a-44c6-995e-40fffc3e30ca"
      },
      "execution_count": 77,
      "outputs": [
        {
          "output_type": "display_data",
          "data": {
            "text/plain": [
              "<Figure size 1000x600 with 1 Axes>"
            ],
            "image/png": "[encoded data removed]"
          },
          "metadata": {}
        }
      ]
    },
    {
      "cell_type": "code",
      "source": [
        "graph_results(splits=['val'], unscale=True)"
      ],
      "metadata": {
        "colab": {
          "base_uri": "https://localhost:8080/",
          "height": 403
        },
        "id": "ibJNbxGjHggf",
        "outputId": "88638d05-cf95-49be-fec8-de9ff234934f"
      },
      "execution_count": 81,
      "outputs": [
        {
          "output_type": "display_data",
          "data": {
            "text/plain": [
              "<Figure size 1000x600 with 1 Axes>"
            ],
            "image/png": "[encoded data removed]"
          },
          "metadata": {}
        }
      ]
    },
    {
      "cell_type": "code",
      "source": [
        "with open('results.json', 'w') as f:\n",
        "    json.dump(results, f, indent=4)"
      ],
      "metadata": {
        "id": "LEKM7BXk698W"
      },
      "execution_count": 79,
      "outputs": []
    },
    {
      "cell_type": "code",
      "source": [
        "best_unscaled = [min(unscale_scores(results[model]['val'])) for model in results.keys()]\n",
        "best_unscaled"
      ],
      "metadata": {
        "colab": {
          "base_uri": "https://localhost:8080/"
        },
        "id": "gD7E45e8ZXfM",
        "outputId": "f679e787-0447-4f91-af8e-927bb13441d3"
      },
      "execution_count": 98,
      "outputs": [
        {
          "output_type": "execute_result",
          "data": {
            "text/plain": [
              "[11.282984991578187, 11.041478198576398, 9.241244515413491]"
            ]
          },
          "metadata": {},
          "execution_count": 98
        }
      ]
    },
    {
      "cell_type": "code",
      "source": [
        "for i in range(1, len(best_unscaled)):\n",
        "    print((1 - best_unscaled[i] / best_unscaled[0]) * 100)"
      ],
      "metadata": {
        "colab": {
          "base_uri": "https://localhost:8080/"
        },
        "id": "0DXmxQVoaLde",
        "outputId": "9b1a6308-c384-41c7-ad59-5e59b1dae9a2"
      },
      "execution_count": 101,
      "outputs": [
        {
          "output_type": "stream",
          "name": "stdout",
          "text": [
            "2.1404512474496262\n",
            "18.0957475144094\n"
          ]
        }
      ]
    },
    {
      "cell_type": "code",
      "source": [
        "1 - best_unscaled[2] ** 2 / float(target_pipeline['scaler'].scale_[0] ** 2)"
      ],
      "metadata": {
        "colab": {
          "base_uri": "https://localhost:8080/"
        },
        "id": "13pTGMBmdNAh",
        "outputId": "f5ccbd55-824c-4a2c-fdc5-cbae33039890"
      },
      "execution_count": 103,
      "outputs": [
        {
          "output_type": "execute_result",
          "data": {
            "text/plain": [
              "0.6742140948772429"
            ]
          },
          "metadata": {},
          "execution_count": 103
        }
      ]
    }
  ]
}